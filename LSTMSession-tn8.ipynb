{
 "cells": [
  {
   "cell_type": "code",
   "execution_count": 1,
   "metadata": {},
   "outputs": [
    {
     "name": "stderr",
     "output_type": "stream",
     "text": [
      "Using TensorFlow backend.\n",
      "/usr/local/lib/python3.5/dist-packages/tensorflow/python/framework/dtypes.py:516: FutureWarning: Passing (type, 1) or '1type' as a synonym of type is deprecated; in a future version of numpy, it will be understood as (type, (1,)) / '(1,)type'.\n",
      "  _np_qint8 = np.dtype([(\"qint8\", np.int8, 1)])\n",
      "/usr/local/lib/python3.5/dist-packages/tensorflow/python/framework/dtypes.py:517: FutureWarning: Passing (type, 1) or '1type' as a synonym of type is deprecated; in a future version of numpy, it will be understood as (type, (1,)) / '(1,)type'.\n",
      "  _np_quint8 = np.dtype([(\"quint8\", np.uint8, 1)])\n",
      "/usr/local/lib/python3.5/dist-packages/tensorflow/python/framework/dtypes.py:518: FutureWarning: Passing (type, 1) or '1type' as a synonym of type is deprecated; in a future version of numpy, it will be understood as (type, (1,)) / '(1,)type'.\n",
      "  _np_qint16 = np.dtype([(\"qint16\", np.int16, 1)])\n",
      "/usr/local/lib/python3.5/dist-packages/tensorflow/python/framework/dtypes.py:519: FutureWarning: Passing (type, 1) or '1type' as a synonym of type is deprecated; in a future version of numpy, it will be understood as (type, (1,)) / '(1,)type'.\n",
      "  _np_quint16 = np.dtype([(\"quint16\", np.uint16, 1)])\n",
      "/usr/local/lib/python3.5/dist-packages/tensorflow/python/framework/dtypes.py:520: FutureWarning: Passing (type, 1) or '1type' as a synonym of type is deprecated; in a future version of numpy, it will be understood as (type, (1,)) / '(1,)type'.\n",
      "  _np_qint32 = np.dtype([(\"qint32\", np.int32, 1)])\n",
      "/usr/local/lib/python3.5/dist-packages/tensorflow/python/framework/dtypes.py:525: FutureWarning: Passing (type, 1) or '1type' as a synonym of type is deprecated; in a future version of numpy, it will be understood as (type, (1,)) / '(1,)type'.\n",
      "  np_resource = np.dtype([(\"resource\", np.ubyte, 1)])\n",
      "/usr/local/lib/python3.5/dist-packages/tensorboard/compat/tensorflow_stub/dtypes.py:541: FutureWarning: Passing (type, 1) or '1type' as a synonym of type is deprecated; in a future version of numpy, it will be understood as (type, (1,)) / '(1,)type'.\n",
      "  _np_qint8 = np.dtype([(\"qint8\", np.int8, 1)])\n",
      "/usr/local/lib/python3.5/dist-packages/tensorboard/compat/tensorflow_stub/dtypes.py:542: FutureWarning: Passing (type, 1) or '1type' as a synonym of type is deprecated; in a future version of numpy, it will be understood as (type, (1,)) / '(1,)type'.\n",
      "  _np_quint8 = np.dtype([(\"quint8\", np.uint8, 1)])\n",
      "/usr/local/lib/python3.5/dist-packages/tensorboard/compat/tensorflow_stub/dtypes.py:543: FutureWarning: Passing (type, 1) or '1type' as a synonym of type is deprecated; in a future version of numpy, it will be understood as (type, (1,)) / '(1,)type'.\n",
      "  _np_qint16 = np.dtype([(\"qint16\", np.int16, 1)])\n",
      "/usr/local/lib/python3.5/dist-packages/tensorboard/compat/tensorflow_stub/dtypes.py:544: FutureWarning: Passing (type, 1) or '1type' as a synonym of type is deprecated; in a future version of numpy, it will be understood as (type, (1,)) / '(1,)type'.\n",
      "  _np_quint16 = np.dtype([(\"quint16\", np.uint16, 1)])\n",
      "/usr/local/lib/python3.5/dist-packages/tensorboard/compat/tensorflow_stub/dtypes.py:545: FutureWarning: Passing (type, 1) or '1type' as a synonym of type is deprecated; in a future version of numpy, it will be understood as (type, (1,)) / '(1,)type'.\n",
      "  _np_qint32 = np.dtype([(\"qint32\", np.int32, 1)])\n",
      "/usr/local/lib/python3.5/dist-packages/tensorboard/compat/tensorflow_stub/dtypes.py:550: FutureWarning: Passing (type, 1) or '1type' as a synonym of type is deprecated; in a future version of numpy, it will be understood as (type, (1,)) / '(1,)type'.\n",
      "  np_resource = np.dtype([(\"resource\", np.ubyte, 1)])\n"
     ]
    }
   ],
   "source": [
    "from math import sqrt\n",
    "from matplotlib import pyplot\n",
    "from sklearn.preprocessing import MinMaxScaler\n",
    "from sklearn.preprocessing import LabelEncoder\n",
    "#from sklearn.metrics import mean_squared_error\n",
    "from keras.models import Sequential\n",
    "#from keras.layers import Dense\n",
    "#from keras.layers import LSTM\n",
    "#from keras.models import Model\n",
    "from keras.layers import LSTM, Activation, Dense, Dropout, Input, Embedding\n",
    "from keras.optimizers import RMSprop\n",
    "from keras.preprocessing import sequence\n",
    "from keras.callbacks import EarlyStopping"
   ]
  },
  {
   "cell_type": "code",
   "execution_count": 4,
   "metadata": {},
   "outputs": [],
   "source": [
    "import tensorflow as tf\n",
    "from keras import optimizers, Sequential\n",
    "from keras.models import Model\n",
    "from keras.utils import plot_model\n",
    "from keras.layers import Dense, LSTM, RepeatVector, TimeDistributed\n",
    "from keras.callbacks import ModelCheckpoint, TensorBoard"
   ]
  },
  {
   "cell_type": "code",
   "execution_count": 5,
   "metadata": {},
   "outputs": [],
   "source": [
    "import numpy as np"
   ]
  },
  {
   "cell_type": "code",
   "execution_count": 6,
   "metadata": {},
   "outputs": [
    {
     "name": "stdout",
     "output_type": "stream",
     "text": [
      "/home/angli/data/anglii/usersession-sample\n"
     ]
    }
   ],
   "source": [
    "cd /home/angli/data/anglii/usersession-sample"
   ]
  },
  {
   "cell_type": "code",
   "execution_count": 7,
   "metadata": {},
   "outputs": [],
   "source": [
    "import pandas as pd\n",
    "from math import sqrt\n",
    "from numpy import concatenate\n",
    "from matplotlib import pyplot\n",
    "from pandas import read_csv\n",
    "from pandas import DataFrame\n",
    "from pandas import concat\n",
    "import glob"
   ]
  },
  {
   "cell_type": "code",
   "execution_count": 8,
   "metadata": {},
   "outputs": [],
   "source": [
    "from keras.models import load_model\n",
    "from keras.callbacks import EarlyStopping"
   ]
  },
  {
   "cell_type": "code",
   "execution_count": 9,
   "metadata": {},
   "outputs": [],
   "source": [
    "from datetime import datetime"
   ]
  },
  {
   "cell_type": "markdown",
   "metadata": {},
   "source": [
    "## this is to prepare the data into input format"
   ]
  },
  {
   "cell_type": "code",
   "execution_count": 10,
   "metadata": {},
   "outputs": [],
   "source": [
    "def series_to_supervised(data, n_in=1, n_out=1, dropnan=True):\n",
    "    n_vars = 1 if type(data) is list else data.shape[1]\n",
    "    df = DataFrame(data)\n",
    "    cols, names = list(), list()\n",
    "    # input sequence (t-n, ... t-1)\n",
    "    for i in range(n_in, 0, -1):\n",
    "        cols.append(df.shift(i))\n",
    "        names += [('var%d(t-%d)' % (j+1, i)) for j in range(n_vars)]\n",
    "    # forecast sequence (t, t+1, ... t+n)\n",
    "    for i in range(0, n_out):\n",
    "        cols.append(df.shift(-i))\n",
    "        if i == 0:\n",
    "            names += [('var%d(t)' % (j+1)) for j in range(n_vars)]\n",
    "        else:\n",
    "            names += [('var%d(t+%d)' % (j+1, i)) for j in range(n_vars)]\n",
    "    \n",
    "    # put it all together\n",
    "    agg = concat(cols, axis=1)\n",
    "    agg.columns = names\n",
    "    \n",
    "    # drop rows with NaN values\n",
    "    if dropnan:\n",
    "        agg.dropna(inplace=True)\n",
    "    return agg"
   ]
  },
  {
   "cell_type": "markdown",
   "metadata": {},
   "source": [
    "### input data"
   ]
  },
  {
   "cell_type": "code",
   "execution_count": 11,
   "metadata": {},
   "outputs": [],
   "source": [
    "l = [pd.read_csv(filename) for filename in glob.glob(\"/home/angli/data/anglii/usersession-sample/usersession-traintest-*.csv\")]\n",
    "df = pd.concat(l, axis=0)"
   ]
  },
  {
   "cell_type": "code",
   "execution_count": 12,
   "metadata": {},
   "outputs": [
    {
     "data": {
      "text/plain": [
       "array(['user_id', 'week_num', 'Local_date', 'session_start2',\n",
       "       'session_length2', 'start_Local_time', 'Hour_start', 'Hour_end',\n",
       "       'podcast_played', 'Dow_num', 'user_gender_num',\n",
       "       'user_age_group_num', 'freeUsers', 'acc_age', 'bf_num_tracks',\n",
       "       'bf_num_artist', 'bf_music_secs', 'bf_music_streams',\n",
       "       'bf_active_dates', 'bf_night_stream_secs', 'bf_EV_stream_secs',\n",
       "       'bf_AF_stream_secs', 'bf_morning_stream_sec',\n",
       "       'bf_weekend_stream_secs', 'bf_weekday_stream_secs',\n",
       "       'window_num_songs', 'window_num_podcasts',\n",
       "       'window_ms_songs_played', 'window_ms_podcasts_played',\n",
       "       'window_mins_played', 'window_num_skipped',\n",
       "       'window_num_non_skipped', 'window_num_from_home',\n",
       "       'window_num_from_search', 'window_num_from_library',\n",
       "       'window_num_from_browse', 'time_interval', 'rolling1dayPodcast',\n",
       "       'rolling1weekPodcast', 'rolling1WindowPodcast',\n",
       "       'rolling1WindowPodcast_msecs', 'rolling1dayPodcast_msecs',\n",
       "       'rolling1weekPodcast_msecs', 'rolling1WindowMusic',\n",
       "       'rolling1dayMusic', 'rolling1weekMusic',\n",
       "       'rolling1WindowMusic_msecs', 'rolling1dayMusic_msecs',\n",
       "       'rolling1weekMusic_msecs', 'rolling1Day_library',\n",
       "       'rolling1week_library', 'rolling1Window_library',\n",
       "       'rolling1Window_home', 'rolling1Day_home', 'rolling1week_home',\n",
       "       'rolling1Window_search', 'rolling1Day_search',\n",
       "       'rolling1week_search', 'test', 'time_test'], dtype=object)"
      ]
     },
     "execution_count": 12,
     "metadata": {},
     "output_type": "execute_result"
    }
   ],
   "source": [
    "df.columns.values"
   ]
  },
  {
   "cell_type": "code",
   "execution_count": 13,
   "metadata": {},
   "outputs": [
    {
     "data": {
      "text/plain": [
       "0    1912707\n",
       "1     780695\n",
       "Name: test, dtype: int64"
      ]
     },
     "execution_count": 13,
     "metadata": {},
     "output_type": "execute_result"
    }
   ],
   "source": [
    "df['test'].value_counts()#this is the feature to separate train/test"
   ]
  },
  {
   "cell_type": "markdown",
   "metadata": {},
   "source": [
    "### we want to sort the data into <user, time> order"
   ]
  },
  {
   "cell_type": "code",
   "execution_count": 14,
   "metadata": {},
   "outputs": [],
   "source": [
    "df['session_start2'] = pd.to_datetime(df['session_start2'])"
   ]
  },
  {
   "cell_type": "code",
   "execution_count": 15,
   "metadata": {},
   "outputs": [],
   "source": [
    "df = df.sort_values(by=['user_id', 'session_start2'])"
   ]
  },
  {
   "cell_type": "code",
   "execution_count": 16,
   "metadata": {},
   "outputs": [
    {
     "data": {
      "text/html": [
       "<div>\n",
       "<style scoped>\n",
       "    .dataframe tbody tr th:only-of-type {\n",
       "        vertical-align: middle;\n",
       "    }\n",
       "\n",
       "    .dataframe tbody tr th {\n",
       "        vertical-align: top;\n",
       "    }\n",
       "\n",
       "    .dataframe thead th {\n",
       "        text-align: right;\n",
       "    }\n",
       "</style>\n",
       "<table border=\"1\" class=\"dataframe\">\n",
       "  <thead>\n",
       "    <tr style=\"text-align: right;\">\n",
       "      <th></th>\n",
       "      <th>user_id</th>\n",
       "      <th>week_num</th>\n",
       "      <th>Local_date</th>\n",
       "      <th>session_start2</th>\n",
       "      <th>session_length2</th>\n",
       "      <th>start_Local_time</th>\n",
       "      <th>Hour_start</th>\n",
       "      <th>Hour_end</th>\n",
       "      <th>podcast_played</th>\n",
       "      <th>Dow_num</th>\n",
       "      <th>...</th>\n",
       "      <th>rolling1week_library</th>\n",
       "      <th>rolling1Window_library</th>\n",
       "      <th>rolling1Window_home</th>\n",
       "      <th>rolling1Day_home</th>\n",
       "      <th>rolling1week_home</th>\n",
       "      <th>rolling1Window_search</th>\n",
       "      <th>rolling1Day_search</th>\n",
       "      <th>rolling1week_search</th>\n",
       "      <th>test</th>\n",
       "      <th>time_test</th>\n",
       "    </tr>\n",
       "  </thead>\n",
       "  <tbody>\n",
       "    <tr>\n",
       "      <th>0</th>\n",
       "      <td>00155b865bdd419aa51704267038ac68</td>\n",
       "      <td>19</td>\n",
       "      <td>2019-05-06</td>\n",
       "      <td>2019-05-06 10:56:10.332</td>\n",
       "      <td>1787936</td>\n",
       "      <td>2019-05-06 06:00:49.754</td>\n",
       "      <td>6</td>\n",
       "      <td>6</td>\n",
       "      <td>0</td>\n",
       "      <td>1</td>\n",
       "      <td>...</td>\n",
       "      <td>0</td>\n",
       "      <td>0</td>\n",
       "      <td>0</td>\n",
       "      <td>0</td>\n",
       "      <td>0</td>\n",
       "      <td>0</td>\n",
       "      <td>0</td>\n",
       "      <td>0</td>\n",
       "      <td>0</td>\n",
       "      <td>0</td>\n",
       "    </tr>\n",
       "    <tr>\n",
       "      <th>1</th>\n",
       "      <td>00155b865bdd419aa51704267038ac68</td>\n",
       "      <td>19</td>\n",
       "      <td>2019-05-06</td>\n",
       "      <td>2019-05-06 11:29:43.879</td>\n",
       "      <td>226650</td>\n",
       "      <td>2019-05-06 06:29:43.879</td>\n",
       "      <td>6</td>\n",
       "      <td>6</td>\n",
       "      <td>0</td>\n",
       "      <td>1</td>\n",
       "      <td>...</td>\n",
       "      <td>0</td>\n",
       "      <td>0</td>\n",
       "      <td>0</td>\n",
       "      <td>0</td>\n",
       "      <td>0</td>\n",
       "      <td>0</td>\n",
       "      <td>0</td>\n",
       "      <td>0</td>\n",
       "      <td>0</td>\n",
       "      <td>0</td>\n",
       "    </tr>\n",
       "    <tr>\n",
       "      <th>2</th>\n",
       "      <td>00155b865bdd419aa51704267038ac68</td>\n",
       "      <td>19</td>\n",
       "      <td>2019-05-06</td>\n",
       "      <td>2019-05-06 11:48:16.112</td>\n",
       "      <td>270336</td>\n",
       "      <td>2019-05-06 06:52:45.274</td>\n",
       "      <td>6</td>\n",
       "      <td>6</td>\n",
       "      <td>0</td>\n",
       "      <td>1</td>\n",
       "      <td>...</td>\n",
       "      <td>0</td>\n",
       "      <td>0</td>\n",
       "      <td>0</td>\n",
       "      <td>0</td>\n",
       "      <td>0</td>\n",
       "      <td>0</td>\n",
       "      <td>0</td>\n",
       "      <td>0</td>\n",
       "      <td>0</td>\n",
       "      <td>0</td>\n",
       "    </tr>\n",
       "    <tr>\n",
       "      <th>3</th>\n",
       "      <td>00155b865bdd419aa51704267038ac68</td>\n",
       "      <td>19</td>\n",
       "      <td>2019-05-06</td>\n",
       "      <td>2019-05-06 11:55:13.351</td>\n",
       "      <td>113105</td>\n",
       "      <td>2019-05-06 06:55:13.351</td>\n",
       "      <td>6</td>\n",
       "      <td>6</td>\n",
       "      <td>0</td>\n",
       "      <td>1</td>\n",
       "      <td>...</td>\n",
       "      <td>0</td>\n",
       "      <td>0</td>\n",
       "      <td>0</td>\n",
       "      <td>0</td>\n",
       "      <td>0</td>\n",
       "      <td>0</td>\n",
       "      <td>0</td>\n",
       "      <td>0</td>\n",
       "      <td>0</td>\n",
       "      <td>0</td>\n",
       "    </tr>\n",
       "    <tr>\n",
       "      <th>4</th>\n",
       "      <td>00155b865bdd419aa51704267038ac68</td>\n",
       "      <td>19</td>\n",
       "      <td>2019-05-06</td>\n",
       "      <td>2019-05-06 23:07:03.438</td>\n",
       "      <td>1527371</td>\n",
       "      <td>2019-05-06 18:09:17.840</td>\n",
       "      <td>18</td>\n",
       "      <td>18</td>\n",
       "      <td>0</td>\n",
       "      <td>1</td>\n",
       "      <td>...</td>\n",
       "      <td>0</td>\n",
       "      <td>0</td>\n",
       "      <td>0</td>\n",
       "      <td>0</td>\n",
       "      <td>0</td>\n",
       "      <td>0</td>\n",
       "      <td>0</td>\n",
       "      <td>0</td>\n",
       "      <td>0</td>\n",
       "      <td>0</td>\n",
       "    </tr>\n",
       "  </tbody>\n",
       "</table>\n",
       "<p>5 rows × 60 columns</p>\n",
       "</div>"
      ],
      "text/plain": [
       "                            user_id  week_num  Local_date  \\\n",
       "0  00155b865bdd419aa51704267038ac68        19  2019-05-06   \n",
       "1  00155b865bdd419aa51704267038ac68        19  2019-05-06   \n",
       "2  00155b865bdd419aa51704267038ac68        19  2019-05-06   \n",
       "3  00155b865bdd419aa51704267038ac68        19  2019-05-06   \n",
       "4  00155b865bdd419aa51704267038ac68        19  2019-05-06   \n",
       "\n",
       "           session_start2  session_length2         start_Local_time  \\\n",
       "0 2019-05-06 10:56:10.332          1787936  2019-05-06 06:00:49.754   \n",
       "1 2019-05-06 11:29:43.879           226650  2019-05-06 06:29:43.879   \n",
       "2 2019-05-06 11:48:16.112           270336  2019-05-06 06:52:45.274   \n",
       "3 2019-05-06 11:55:13.351           113105  2019-05-06 06:55:13.351   \n",
       "4 2019-05-06 23:07:03.438          1527371  2019-05-06 18:09:17.840   \n",
       "\n",
       "   Hour_start  Hour_end  podcast_played  Dow_num  ...  rolling1week_library  \\\n",
       "0           6         6               0        1  ...                     0   \n",
       "1           6         6               0        1  ...                     0   \n",
       "2           6         6               0        1  ...                     0   \n",
       "3           6         6               0        1  ...                     0   \n",
       "4          18        18               0        1  ...                     0   \n",
       "\n",
       "   rolling1Window_library  rolling1Window_home  rolling1Day_home  \\\n",
       "0                       0                    0                 0   \n",
       "1                       0                    0                 0   \n",
       "2                       0                    0                 0   \n",
       "3                       0                    0                 0   \n",
       "4                       0                    0                 0   \n",
       "\n",
       "   rolling1week_home  rolling1Window_search  rolling1Day_search  \\\n",
       "0                  0                      0                   0   \n",
       "1                  0                      0                   0   \n",
       "2                  0                      0                   0   \n",
       "3                  0                      0                   0   \n",
       "4                  0                      0                   0   \n",
       "\n",
       "   rolling1week_search  test  time_test  \n",
       "0                    0     0          0  \n",
       "1                    0     0          0  \n",
       "2                    0     0          0  \n",
       "3                    0     0          0  \n",
       "4                    0     0          0  \n",
       "\n",
       "[5 rows x 60 columns]"
      ]
     },
     "execution_count": 16,
     "metadata": {},
     "output_type": "execute_result"
    }
   ],
   "source": [
    "df.head()"
   ]
  },
  {
   "cell_type": "markdown",
   "metadata": {},
   "source": [
    "### we want to normalize the data"
   ]
  },
  {
   "cell_type": "code",
   "execution_count": 41,
   "metadata": {},
   "outputs": [],
   "source": [
    "window_data = df[['user_gender_num', 'user_age_group_num', 'freeUsers', 'acc_age', \n",
    "                  'bf_num_tracks','bf_num_artist', 'bf_music_secs', 'bf_music_streams',\n",
    "                  'bf_active_dates', 'bf_night_stream_secs', \n",
    "                  'bf_EV_stream_secs','bf_AF_stream_secs', 'bf_morning_stream_sec', 'bf_weekend_stream_secs', \n",
    "                  'bf_weekday_stream_secs','week_num','Dow_num', 'Hour_start', 'time_interval',\n",
    "                  'Hour_end',\n",
    "                  'window_num_songs', 'window_num_podcasts','window_ms_songs_played', 'window_ms_podcasts_played',\n",
    "                  'window_mins_played', 'window_num_skipped','window_num_non_skipped', \n",
    "                  'window_num_from_home', 'window_num_from_search', 'window_num_from_library', 'window_num_from_browse']]"
   ]
  },
  {
   "cell_type": "code",
   "execution_count": 42,
   "metadata": {},
   "outputs": [
    {
     "data": {
      "text/plain": [
       "31"
      ]
     },
     "execution_count": 42,
     "metadata": {},
     "output_type": "execute_result"
    }
   ],
   "source": [
    "len(window_data.columns.values)"
   ]
  },
  {
   "cell_type": "code",
   "execution_count": 43,
   "metadata": {},
   "outputs": [],
   "source": [
    "values = window_data.values"
   ]
  },
  {
   "cell_type": "code",
   "execution_count": 44,
   "metadata": {},
   "outputs": [],
   "source": [
    "# ensure all data is float\n",
    "values = values.astype('float32')\n",
    "# normalize features\n",
    "scaler = MinMaxScaler(feature_range=(0, 1))\n",
    "scaled = scaler.fit_transform(values)"
   ]
  },
  {
   "cell_type": "code",
   "execution_count": 45,
   "metadata": {},
   "outputs": [
    {
     "data": {
      "text/plain": [
       "(2693402, 31)"
      ]
     },
     "execution_count": 45,
     "metadata": {},
     "output_type": "execute_result"
    }
   ],
   "source": [
    "scaled.shape"
   ]
  },
  {
   "cell_type": "markdown",
   "metadata": {},
   "source": [
    "### adding back the user_id, train/test, Y = 'podcast_played'"
   ]
  },
  {
   "cell_type": "code",
   "execution_count": 46,
   "metadata": {},
   "outputs": [
    {
     "data": {
      "text/plain": [
       "array([['00155b865bdd419aa51704267038ac68', 0, 0],\n",
       "       ['00155b865bdd419aa51704267038ac68', 0, 0],\n",
       "       ['00155b865bdd419aa51704267038ac68', 0, 0],\n",
       "       ...,\n",
       "       ['fff27371344540b2b69bd765a87e1a89', 0, 1],\n",
       "       ['fff27371344540b2b69bd765a87e1a89', 0, 1],\n",
       "       ['fff27371344540b2b69bd765a87e1a89', 0, 1]], dtype=object)"
      ]
     },
     "execution_count": 46,
     "metadata": {},
     "output_type": "execute_result"
    }
   ],
   "source": [
    "adding = np.array(df[['user_id',\"test\",'podcast_played']])\n",
    "#adding = np.array(df[[\"test\",'podcast_played']])\n",
    "adding"
   ]
  },
  {
   "cell_type": "code",
   "execution_count": 47,
   "metadata": {},
   "outputs": [],
   "source": [
    "id_scaled = np.append(scaled, adding, 1)"
   ]
  },
  {
   "cell_type": "code",
   "execution_count": 48,
   "metadata": {},
   "outputs": [
    {
     "data": {
      "text/plain": [
       "array([[0.0, 0.2857142984867096, 0.0, ...,\n",
       "        '00155b865bdd419aa51704267038ac68', 0, 0],\n",
       "       [0.0, 0.2857142984867096, 0.0, ...,\n",
       "        '00155b865bdd419aa51704267038ac68', 0, 0],\n",
       "       [0.0, 0.2857142984867096, 0.0, ...,\n",
       "        '00155b865bdd419aa51704267038ac68', 0, 0],\n",
       "       ...,\n",
       "       [1.0, 0.2857142984867096, 1.0, ...,\n",
       "        'fff27371344540b2b69bd765a87e1a89', 0, 1],\n",
       "       [1.0, 0.2857142984867096, 1.0, ...,\n",
       "        'fff27371344540b2b69bd765a87e1a89', 0, 1],\n",
       "       [1.0, 0.2857142984867096, 1.0, ...,\n",
       "        'fff27371344540b2b69bd765a87e1a89', 0, 1]], dtype=object)"
      ]
     },
     "execution_count": 48,
     "metadata": {},
     "output_type": "execute_result"
    }
   ],
   "source": [
    "id_scaled"
   ]
  },
  {
   "cell_type": "code",
   "execution_count": 49,
   "metadata": {},
   "outputs": [
    {
     "data": {
      "text/plain": [
       "(2693402, 34)"
      ]
     },
     "execution_count": 49,
     "metadata": {},
     "output_type": "execute_result"
    }
   ],
   "source": [
    "id_scaled.shape \n",
    "#column 0-31 are the features\n",
    "#the last 3 (32,33,34) columns are the newly added: \"user_id\", test\",'podcast_played'"
   ]
  },
  {
   "cell_type": "markdown",
   "metadata": {},
   "source": [
    "### Prepare the input to keras: \n",
    "#### make into sequential data: \n",
    "#### s(t-7), s(t-6), s(t-5), s(t-4), s(t-3), s(t-2), s(t-1), s(t) | y(t) "
   ]
  },
  {
   "cell_type": "code",
   "execution_count": 50,
   "metadata": {},
   "outputs": [],
   "source": [
    "# frame as supervised learning\n",
    "reframed = series_to_supervised(id_scaled, 7, 1)"
   ]
  },
  {
   "cell_type": "code",
   "execution_count": 1,
   "metadata": {},
   "outputs": [],
   "source": [
    "#reframed.columns.values"
   ]
  },
  {
   "cell_type": "code",
   "execution_count": 52,
   "metadata": {},
   "outputs": [
    {
     "data": {
      "text/plain": [
       "0.000000    2692155\n",
       "0.009524        595\n",
       "0.019048        109\n",
       "0.038095         54\n",
       "0.028571         50\n",
       "             ...   \n",
       "0.304762          1\n",
       "0.780952          1\n",
       "0.495238          1\n",
       "0.390476          1\n",
       "0.447619          1\n",
       "Name: var31(t), Length: 65, dtype: int64"
      ]
     },
     "execution_count": 52,
     "metadata": {},
     "output_type": "execute_result"
    }
   ],
   "source": [
    "#Var1-31: user, current window\n",
    "#var32: user_id\n",
    "#var33: test=1; -- no need for t-n\n",
    "#var34: Y: Podcastplayed -delete for t\n",
    "\n",
    "#reframed[\"var31(t)\"].value_counts()\n",
    "reframed[\"var31(t)\"].value_counts()"
   ]
  },
  {
   "cell_type": "markdown",
   "metadata": {},
   "source": [
    "### select only with sequences belonged to the same user"
   ]
  },
  {
   "cell_type": "code",
   "execution_count": 53,
   "metadata": {},
   "outputs": [],
   "source": [
    "#determine selection of rows --past rows belong to same user, remove the data descrepency\n",
    "#reframed[\"selection\"] = 1\n",
    "reframed['select'] = reframed[\"var32(t)\"]==reframed[\"var32(t-7)\"]"
   ]
  },
  {
   "cell_type": "code",
   "execution_count": 54,
   "metadata": {},
   "outputs": [],
   "source": [
    "reframed = reframed[reframed[\"select\"]==True]"
   ]
  },
  {
   "cell_type": "code",
   "execution_count": 55,
   "metadata": {},
   "outputs": [
    {
     "data": {
      "text/plain": [
       "True    2647849\n",
       "Name: select, dtype: int64"
      ]
     },
     "execution_count": 55,
     "metadata": {},
     "output_type": "execute_result"
    }
   ],
   "source": [
    "reframed[\"select\"].value_counts()"
   ]
  },
  {
   "cell_type": "code",
   "execution_count": 56,
   "metadata": {},
   "outputs": [],
   "source": [
    "#column var1-31 are the features: 7 time steps back * (31 features)\n",
    "#the last 3 (32,33,34) columns are the newly added: \"user_id\", test\",'podcast_played'"
   ]
  },
  {
   "cell_type": "code",
   "execution_count": 83,
   "metadata": {},
   "outputs": [],
   "source": [
    "X_features = ['var1(t-7)', 'var2(t-7)', 'var3(t-7)', 'var4(t-7)', 'var5(t-7)',\n",
    "       'var6(t-7)', 'var7(t-7)', 'var8(t-7)', 'var9(t-7)', 'var10(t-7)',\n",
    "       'var11(t-7)', 'var12(t-7)', 'var13(t-7)', 'var14(t-7)',\n",
    "       'var15(t-7)', 'var16(t-7)', 'var17(t-7)', 'var18(t-7)',\n",
    "       'var19(t-7)', 'var20(t-7)', 'var21(t-7)', 'var22(t-7)',\n",
    "       'var23(t-7)', 'var24(t-7)', 'var25(t-7)', 'var26(t-7)',\n",
    "       'var27(t-7)', 'var28(t-7)', 'var29(t-7)', 'var30(t-7)',\n",
    "       'var31(t-7)', \n",
    "       'var1(t-6)', 'var2(t-6)', 'var3(t-6)', 'var4(t-6)', 'var5(t-6)',\n",
    "       'var6(t-6)', 'var7(t-6)', 'var8(t-6)', 'var9(t-6)', 'var10(t-6)',\n",
    "       'var11(t-6)', 'var12(t-6)', 'var13(t-6)', 'var14(t-6)',\n",
    "       'var15(t-6)', 'var16(t-6)', 'var17(t-6)', 'var18(t-6)',\n",
    "       'var19(t-6)', 'var20(t-6)', 'var21(t-6)', 'var22(t-6)',\n",
    "       'var23(t-6)', 'var24(t-6)', 'var25(t-6)', 'var26(t-6)',\n",
    "       'var27(t-6)', 'var28(t-6)', 'var29(t-6)', 'var30(t-6)',\n",
    "       'var31(t-6)', \n",
    "       'var1(t-5)', 'var2(t-5)', 'var3(t-5)', 'var4(t-5)', 'var5(t-5)',\n",
    "       'var6(t-5)', 'var7(t-5)', 'var8(t-5)', 'var9(t-5)', 'var10(t-5)',\n",
    "       'var11(t-5)', 'var12(t-5)', 'var13(t-5)', 'var14(t-5)',\n",
    "       'var15(t-5)', 'var16(t-5)', 'var17(t-5)', 'var18(t-5)',\n",
    "       'var19(t-5)', 'var20(t-5)', 'var21(t-5)', 'var22(t-5)',\n",
    "       'var23(t-5)', 'var24(t-5)', 'var25(t-5)', 'var26(t-5)',\n",
    "       'var27(t-5)', 'var28(t-5)', 'var29(t-5)', 'var30(t-5)',\n",
    "       'var31(t-5)', \n",
    "       'var1(t-4)', 'var2(t-4)', 'var3(t-4)', 'var4(t-4)', 'var5(t-4)',\n",
    "       'var6(t-4)', 'var7(t-4)', 'var8(t-4)', 'var9(t-4)', 'var10(t-4)',\n",
    "       'var11(t-4)', 'var12(t-4)', 'var13(t-4)', 'var14(t-4)',\n",
    "       'var15(t-4)', 'var16(t-4)', 'var17(t-4)', 'var18(t-4)',\n",
    "       'var19(t-4)', 'var20(t-4)', 'var21(t-4)', 'var22(t-4)',\n",
    "       'var23(t-4)', 'var24(t-4)', 'var25(t-4)', 'var26(t-4)',\n",
    "       'var27(t-4)', 'var28(t-4)', 'var29(t-4)', 'var30(t-4)',\n",
    "       'var31(t-4)', \n",
    "       'var1(t-3)', 'var2(t-3)', 'var3(t-3)', 'var4(t-3)', 'var5(t-3)',\n",
    "       'var6(t-3)', 'var7(t-3)', 'var8(t-3)', 'var9(t-3)', 'var10(t-3)',\n",
    "       'var11(t-3)', 'var12(t-3)', 'var13(t-3)', 'var14(t-3)',\n",
    "       'var15(t-3)', 'var16(t-3)', 'var17(t-3)', 'var18(t-3)',\n",
    "       'var19(t-3)', 'var20(t-3)', 'var21(t-3)', 'var22(t-3)',\n",
    "       'var23(t-3)', 'var24(t-3)', 'var25(t-3)', 'var26(t-3)',\n",
    "       'var27(t-3)', 'var28(t-3)', 'var29(t-3)', 'var30(t-3)',\n",
    "       'var31(t-3)',\n",
    "       'var1(t-2)', 'var2(t-2)', 'var3(t-2)', 'var4(t-2)', 'var5(t-2)',\n",
    "       'var6(t-2)', 'var7(t-2)', 'var8(t-2)', 'var9(t-2)', 'var10(t-2)',\n",
    "       'var11(t-2)', 'var12(t-2)', 'var13(t-2)', 'var14(t-2)',\n",
    "       'var15(t-2)', 'var16(t-2)', 'var17(t-2)', 'var18(t-2)',\n",
    "       'var19(t-2)', 'var20(t-2)', 'var21(t-2)', 'var22(t-2)',\n",
    "       'var23(t-2)', 'var24(t-2)', 'var25(t-2)', 'var26(t-2)',\n",
    "       'var27(t-2)', 'var28(t-2)', 'var29(t-2)', 'var30(t-2)',\n",
    "       'var31(t-2)', \n",
    "       'var1(t-1)', 'var2(t-1)', 'var3(t-1)', 'var4(t-1)', 'var5(t-1)',\n",
    "       'var6(t-1)', 'var7(t-1)', 'var8(t-1)', 'var9(t-1)', 'var10(t-1)',\n",
    "       'var11(t-1)', 'var12(t-1)', 'var13(t-1)', 'var14(t-1)',\n",
    "       'var15(t-1)', 'var16(t-1)', 'var17(t-1)', 'var18(t-1)',\n",
    "       'var19(t-1)', 'var20(t-1)', 'var21(t-1)', 'var22(t-1)',\n",
    "       'var23(t-1)', 'var24(t-1)', 'var25(t-1)', 'var26(t-1)',\n",
    "       'var27(t-1)', 'var28(t-1)', 'var29(t-1)', 'var30(t-1)',\n",
    "       'var31(t-1)', \n",
    "       'var1(t)','var2(t)', 'var3(t)', 'var4(t)', 'var5(t)', 'var6(t)', 'var7(t)',\n",
    "       'var8(t)', 'var9(t)', 'var10(t)', 'var11(t)', 'var12(t)',\n",
    "       'var13(t)', 'var14(t)', 'var15(t)', 'var16(t)', 'var17(t)',\n",
    "       'var18(t)', 'var19(t)', 'var20(t)', 'var21(t)', 'var22(t)',\n",
    "       'var23(t)', 'var24(t)', 'var25(t)', 'var26(t)', 'var27(t)',\n",
    "       'var28(t)', 'var29(t)', 'var30(t)', 'var31(t)']"
   ]
  },
  {
   "cell_type": "code",
   "execution_count": 58,
   "metadata": {},
   "outputs": [],
   "source": [
    "Y_feature = 'var34(t)'"
   ]
  },
  {
   "cell_type": "code",
   "execution_count": 59,
   "metadata": {},
   "outputs": [],
   "source": [
    "reframed['var20(t)'] = 0\n",
    "reframed['var21(t)'] = 0\n",
    "reframed['var22(t)'] = 0\n",
    "reframed['var23(t)'] = 0\n",
    "reframed['var24(t)'] = 0\n",
    "reframed['var25(t)'] = 0\n",
    "reframed['var26(t)'] = 0\n",
    "reframed['var27(t)'] = 0\n",
    "reframed['var28(t)'] = 0\n",
    "reframed['var29(t)'] = 0\n",
    "reframed['var30(t)'] = 0\n",
    "reframed['var31(t)'] = 0"
   ]
  },
  {
   "cell_type": "code",
   "execution_count": 61,
   "metadata": {},
   "outputs": [
    {
     "data": {
      "text/plain": [
       "7          0\n",
       "8          0\n",
       "9          0\n",
       "10         0\n",
       "11         0\n",
       "          ..\n",
       "2693397    0\n",
       "2693398    0\n",
       "2693399    0\n",
       "2693400    0\n",
       "2693401    0\n",
       "Name: var31(t), Length: 2647849, dtype: int64"
      ]
     },
     "execution_count": 61,
     "metadata": {},
     "output_type": "execute_result"
    }
   ],
   "source": [
    "reframed['var31(t)']"
   ]
  },
  {
   "cell_type": "code",
   "execution_count": 62,
   "metadata": {},
   "outputs": [],
   "source": [
    "reframed_final = reframed[['var1(t-7)', 'var2(t-7)', 'var3(t-7)', 'var4(t-7)', 'var5(t-7)',\n",
    "       'var6(t-7)', 'var7(t-7)', 'var8(t-7)', 'var9(t-7)', 'var10(t-7)',\n",
    "       'var11(t-7)', 'var12(t-7)', 'var13(t-7)', 'var14(t-7)',\n",
    "       'var15(t-7)', 'var16(t-7)', 'var17(t-7)', 'var18(t-7)',\n",
    "       'var19(t-7)', 'var20(t-7)', 'var21(t-7)', 'var22(t-7)',\n",
    "       'var23(t-7)', 'var24(t-7)', 'var25(t-7)', 'var26(t-7)',\n",
    "       'var27(t-7)', 'var28(t-7)', 'var29(t-7)', 'var30(t-7)',\n",
    "       'var31(t-7)', \n",
    "       'var1(t-6)', 'var2(t-6)', 'var3(t-6)', 'var4(t-6)', 'var5(t-6)',\n",
    "       'var6(t-6)', 'var7(t-6)', 'var8(t-6)', 'var9(t-6)', 'var10(t-6)',\n",
    "       'var11(t-6)', 'var12(t-6)', 'var13(t-6)', 'var14(t-6)',\n",
    "       'var15(t-6)', 'var16(t-6)', 'var17(t-6)', 'var18(t-6)',\n",
    "       'var19(t-6)', 'var20(t-6)', 'var21(t-6)', 'var22(t-6)',\n",
    "       'var23(t-6)', 'var24(t-6)', 'var25(t-6)', 'var26(t-6)',\n",
    "       'var27(t-6)', 'var28(t-6)', 'var29(t-6)', 'var30(t-6)',\n",
    "       'var31(t-6)', \n",
    "       'var1(t-5)', 'var2(t-5)', 'var3(t-5)', 'var4(t-5)', 'var5(t-5)',\n",
    "       'var6(t-5)', 'var7(t-5)', 'var8(t-5)', 'var9(t-5)', 'var10(t-5)',\n",
    "       'var11(t-5)', 'var12(t-5)', 'var13(t-5)', 'var14(t-5)',\n",
    "       'var15(t-5)', 'var16(t-5)', 'var17(t-5)', 'var18(t-5)',\n",
    "       'var19(t-5)', 'var20(t-5)', 'var21(t-5)', 'var22(t-5)',\n",
    "       'var23(t-5)', 'var24(t-5)', 'var25(t-5)', 'var26(t-5)',\n",
    "       'var27(t-5)', 'var28(t-5)', 'var29(t-5)', 'var30(t-5)',\n",
    "       'var31(t-5)', \n",
    "       'var1(t-4)', 'var2(t-4)', 'var3(t-4)', 'var4(t-4)', 'var5(t-4)',\n",
    "       'var6(t-4)', 'var7(t-4)', 'var8(t-4)', 'var9(t-4)', 'var10(t-4)',\n",
    "       'var11(t-4)', 'var12(t-4)', 'var13(t-4)', 'var14(t-4)',\n",
    "       'var15(t-4)', 'var16(t-4)', 'var17(t-4)', 'var18(t-4)',\n",
    "       'var19(t-4)', 'var20(t-4)', 'var21(t-4)', 'var22(t-4)',\n",
    "       'var23(t-4)', 'var24(t-4)', 'var25(t-4)', 'var26(t-4)',\n",
    "       'var27(t-4)', 'var28(t-4)', 'var29(t-4)', 'var30(t-4)',\n",
    "       'var31(t-4)', \n",
    "       'var1(t-3)', 'var2(t-3)', 'var3(t-3)', 'var4(t-3)', 'var5(t-3)',\n",
    "       'var6(t-3)', 'var7(t-3)', 'var8(t-3)', 'var9(t-3)', 'var10(t-3)',\n",
    "       'var11(t-3)', 'var12(t-3)', 'var13(t-3)', 'var14(t-3)',\n",
    "       'var15(t-3)', 'var16(t-3)', 'var17(t-3)', 'var18(t-3)',\n",
    "       'var19(t-3)', 'var20(t-3)', 'var21(t-3)', 'var22(t-3)',\n",
    "       'var23(t-3)', 'var24(t-3)', 'var25(t-3)', 'var26(t-3)',\n",
    "       'var27(t-3)', 'var28(t-3)', 'var29(t-3)', 'var30(t-3)',\n",
    "       'var31(t-3)',\n",
    "       'var1(t-2)', 'var2(t-2)', 'var3(t-2)', 'var4(t-2)', 'var5(t-2)',\n",
    "       'var6(t-2)', 'var7(t-2)', 'var8(t-2)', 'var9(t-2)', 'var10(t-2)',\n",
    "       'var11(t-2)', 'var12(t-2)', 'var13(t-2)', 'var14(t-2)',\n",
    "       'var15(t-2)', 'var16(t-2)', 'var17(t-2)', 'var18(t-2)',\n",
    "       'var19(t-2)', 'var20(t-2)', 'var21(t-2)', 'var22(t-2)',\n",
    "       'var23(t-2)', 'var24(t-2)', 'var25(t-2)', 'var26(t-2)',\n",
    "       'var27(t-2)', 'var28(t-2)', 'var29(t-2)', 'var30(t-2)',\n",
    "       'var31(t-2)', \n",
    "       'var1(t-1)', 'var2(t-1)', 'var3(t-1)', 'var4(t-1)', 'var5(t-1)',\n",
    "       'var6(t-1)', 'var7(t-1)', 'var8(t-1)', 'var9(t-1)', 'var10(t-1)',\n",
    "       'var11(t-1)', 'var12(t-1)', 'var13(t-1)', 'var14(t-1)',\n",
    "       'var15(t-1)', 'var16(t-1)', 'var17(t-1)', 'var18(t-1)',\n",
    "       'var19(t-1)', 'var20(t-1)', 'var21(t-1)', 'var22(t-1)',\n",
    "       'var23(t-1)', 'var24(t-1)', 'var25(t-1)', 'var26(t-1)',\n",
    "       'var27(t-1)', 'var28(t-1)', 'var29(t-1)', 'var30(t-1)',\n",
    "       'var31(t-1)', \n",
    "       'var1(t)','var2(t)', 'var3(t)', 'var4(t)', 'var5(t)', 'var6(t)', 'var7(t)',\n",
    "       'var8(t)', 'var9(t)', 'var10(t)', 'var11(t)', 'var12(t)',\n",
    "       'var13(t)', 'var14(t)', 'var15(t)', 'var16(t)', 'var17(t)',\n",
    "       'var18(t)', 'var19(t)', 'var20(t)', 'var21(t)', 'var22(t)',\n",
    "       'var23(t)', 'var24(t)', 'var25(t)', 'var26(t)', 'var27(t)',\n",
    "       'var28(t)', 'var29(t)', 'var30(t)', 'var31(t)',\n",
    "        'var33(t)', 'var34(t)']] "
   ]
  },
  {
   "cell_type": "code",
   "execution_count": 63,
   "metadata": {},
   "outputs": [
    {
     "data": {
      "text/plain": [
       "0    2437428\n",
       "1     210421\n",
       "Name: var34(t), dtype: int64"
      ]
     },
     "execution_count": 63,
     "metadata": {},
     "output_type": "execute_result"
    }
   ],
   "source": [
    "#this is the prediction of Y\n",
    "reframed_final['var34(t)'].value_counts()"
   ]
  },
  {
   "cell_type": "code",
   "execution_count": 64,
   "metadata": {},
   "outputs": [
    {
     "data": {
      "text/plain": [
       "0.07946865550112563"
      ]
     },
     "execution_count": 64,
     "metadata": {},
     "output_type": "execute_result"
    }
   ],
   "source": [
    "210421/(210421 + 2437428)"
   ]
  },
  {
   "cell_type": "code",
   "execution_count": 65,
   "metadata": {},
   "outputs": [
    {
     "data": {
      "text/plain": [
       "0    1880693\n",
       "1     767156\n",
       "Name: var33(t), dtype: int64"
      ]
     },
     "execution_count": 65,
     "metadata": {},
     "output_type": "execute_result"
    }
   ],
   "source": [
    "#this is the training/test\n",
    "reframed_final['var33(t)'].value_counts()"
   ]
  },
  {
   "cell_type": "code",
   "execution_count": 66,
   "metadata": {},
   "outputs": [
    {
     "data": {
      "text/plain": [
       "0.7102719981388667"
      ]
     },
     "execution_count": 66,
     "metadata": {},
     "output_type": "execute_result"
    }
   ],
   "source": [
    "1880693/(1880693+767156)"
   ]
  },
  {
   "cell_type": "markdown",
   "metadata": {},
   "source": [
    "### split train/test"
   ]
  },
  {
   "cell_type": "code",
   "execution_count": 67,
   "metadata": {},
   "outputs": [],
   "source": [
    "train = reframed_final[reframed_final['var33(t)']==0]\n",
    "test = reframed_final[reframed_final['var33(t)']==1]"
   ]
  },
  {
   "cell_type": "code",
   "execution_count": 68,
   "metadata": {},
   "outputs": [
    {
     "data": {
      "text/plain": [
       "0    1729062\n",
       "1     151631\n",
       "Name: var34(t), dtype: int64"
      ]
     },
     "execution_count": 68,
     "metadata": {},
     "output_type": "execute_result"
    }
   ],
   "source": [
    "train['var34(t)'].value_counts()"
   ]
  },
  {
   "cell_type": "code",
   "execution_count": 69,
   "metadata": {},
   "outputs": [
    {
     "data": {
      "text/plain": [
       "0    708366\n",
       "1     58790\n",
       "Name: var34(t), dtype: int64"
      ]
     },
     "execution_count": 69,
     "metadata": {},
     "output_type": "execute_result"
    }
   ],
   "source": [
    "test['var34(t)'].value_counts()"
   ]
  },
  {
   "cell_type": "code",
   "execution_count": 70,
   "metadata": {},
   "outputs": [
    {
     "data": {
      "text/plain": [
       "0.9233663035940539"
      ]
     },
     "execution_count": 70,
     "metadata": {},
     "output_type": "execute_result"
    }
   ],
   "source": [
    "708366/(708366+58790)"
   ]
  },
  {
   "cell_type": "code",
   "execution_count": 71,
   "metadata": {},
   "outputs": [
    {
     "name": "stdout",
     "output_type": "stream",
     "text": [
      "(1880693, 250) (767156, 250)\n"
     ]
    }
   ],
   "source": [
    "print(train.shape, test.shape)"
   ]
  },
  {
   "cell_type": "code",
   "execution_count": 72,
   "metadata": {},
   "outputs": [],
   "source": [
    "#31(vars)*7(step back)=217"
   ]
  },
  {
   "cell_type": "code",
   "execution_count": 84,
   "metadata": {},
   "outputs": [],
   "source": [
    "X_train = train[X_features].values; \n",
    "Y_train = train['var34(t)'].values"
   ]
  },
  {
   "cell_type": "code",
   "execution_count": 85,
   "metadata": {},
   "outputs": [
    {
     "name": "stdout",
     "output_type": "stream",
     "text": [
      "(1880693, 248) (1880693,)\n"
     ]
    }
   ],
   "source": [
    "print(X_train.shape, Y_train.shape)"
   ]
  },
  {
   "cell_type": "code",
   "execution_count": 86,
   "metadata": {},
   "outputs": [],
   "source": [
    "X_test = test[X_features].values; \n",
    "Y_test = test['var34(t)'].values"
   ]
  },
  {
   "cell_type": "code",
   "execution_count": 87,
   "metadata": {},
   "outputs": [
    {
     "name": "stdout",
     "output_type": "stream",
     "text": [
      "(767156, 248) (767156,)\n"
     ]
    }
   ],
   "source": [
    "print(X_test.shape, Y_test.shape)"
   ]
  },
  {
   "cell_type": "code",
   "execution_count": 88,
   "metadata": {},
   "outputs": [],
   "source": [
    "#let's reshape to (nsample, time steps, nfeatures)"
   ]
  },
  {
   "cell_type": "code",
   "execution_count": 89,
   "metadata": {},
   "outputs": [],
   "source": [
    "train_X = X_train.reshape((X_train.shape[0], 8, 31))\n",
    "test_X = X_test.reshape((X_test.shape[0], 8, 31))"
   ]
  },
  {
   "cell_type": "code",
   "execution_count": 90,
   "metadata": {},
   "outputs": [
    {
     "name": "stdout",
     "output_type": "stream",
     "text": [
      "(1880693, 8, 31) (1880693,) (767156, 8, 31) (767156,)\n"
     ]
    }
   ],
   "source": [
    "print(train_X.shape, Y_train.shape, test_X.shape, Y_test.shape)"
   ]
  },
  {
   "cell_type": "markdown",
   "metadata": {},
   "source": [
    "## model structure"
   ]
  },
  {
   "cell_type": "code",
   "execution_count": 91,
   "metadata": {},
   "outputs": [],
   "source": [
    "from sklearn.metrics import f1_score, accuracy_score, recall_score, precision_score, roc_auc_score, roc_curve, auc, confusion_matrix"
   ]
  },
  {
   "cell_type": "code",
   "execution_count": 57,
   "metadata": {},
   "outputs": [],
   "source": [
    "## they don't have recall, precision, f1\n",
    "from keras import backend as K\n",
    "\n",
    "def recall_m(y_true, y_pred):\n",
    "        true_positives = K.sum(K.round(K.clip(y_true * y_pred, 0, 1)))\n",
    "        possible_positives = K.sum(K.round(K.clip(y_true, 0, 1)))\n",
    "        recall = true_positives / (possible_positives + K.epsilon())\n",
    "        return recall\n",
    "\n",
    "def precision_m(y_true, y_pred):\n",
    "        true_positives = K.sum(K.round(K.clip(y_true * y_pred, 0, 1)))\n",
    "        predicted_positives = K.sum(K.round(K.clip(y_pred, 0, 1)))\n",
    "        precision = true_positives / (predicted_positives + K.epsilon())\n",
    "        return precision\n",
    "\n",
    "def f1_m(y_true, y_pred):\n",
    "    precision = precision_m(y_true, y_pred)\n",
    "    recall = recall_m(y_true, y_pred)\n",
    "    return 2*((precision*recall)/(precision+recall+K.epsilon()))\n"
   ]
  },
  {
   "cell_type": "code",
   "execution_count": null,
   "metadata": {},
   "outputs": [],
   "source": []
  },
  {
   "cell_type": "code",
   "execution_count": 95,
   "metadata": {},
   "outputs": [],
   "source": [
    "model = Sequential()"
   ]
  },
  {
   "cell_type": "code",
   "execution_count": 96,
   "metadata": {},
   "outputs": [],
   "source": [
    "model.add(LSTM(150, input_shape=(train_X.shape[1], train_X.shape[2]), return_sequences=False))"
   ]
  },
  {
   "cell_type": "code",
   "execution_count": 97,
   "metadata": {},
   "outputs": [],
   "source": [
    "model.add(Dropout(0.2))\n",
    "model.add(Dense(1, activation='sigmoid'))"
   ]
  },
  {
   "cell_type": "code",
   "execution_count": 65,
   "metadata": {},
   "outputs": [],
   "source": [
    "#adam = optimizers.Adam(lr=0.0001)"
   ]
  },
  {
   "cell_type": "code",
   "execution_count": 66,
   "metadata": {},
   "outputs": [],
   "source": [
    "#model.compile(optimizer='adam', loss='binary_crossentropy',\n",
    "              #metrics=['acc',f1_m,precision_m, recall_m])"
   ]
  },
  {
   "cell_type": "code",
   "execution_count": 98,
   "metadata": {},
   "outputs": [
    {
     "name": "stderr",
     "output_type": "stream",
     "text": [
      "W0811 04:30:27.471926 140408490039040 deprecation_wrapper.py:119] From /usr/local/lib/python3.5/dist-packages/keras/optimizers.py:790: The name tf.train.Optimizer is deprecated. Please use tf.compat.v1.train.Optimizer instead.\n",
      "\n",
      "W0811 04:30:27.494667 140408490039040 deprecation_wrapper.py:119] From /usr/local/lib/python3.5/dist-packages/keras/backend/tensorflow_backend.py:3376: The name tf.log is deprecated. Please use tf.math.log instead.\n",
      "\n",
      "W0811 04:30:27.500135 140408490039040 deprecation.py:323] From /usr/local/lib/python3.5/dist-packages/tensorflow/python/ops/nn_impl.py:180: add_dispatch_support.<locals>.wrapper (from tensorflow.python.ops.array_ops) is deprecated and will be removed in a future version.\n",
      "Instructions for updating:\n",
      "Use tf.where in 2.0, which has the same broadcast rule as np.where\n"
     ]
    }
   ],
   "source": [
    "model.compile(optimizer='adam', loss='binary_crossentropy',\n",
    "              metrics=['acc'])"
   ]
  },
  {
   "cell_type": "code",
   "execution_count": 68,
   "metadata": {},
   "outputs": [
    {
     "name": "stdout",
     "output_type": "stream",
     "text": [
      "_________________________________________________________________\n",
      "Layer (type)                 Output Shape              Param #   \n",
      "=================================================================\n",
      "lstm_2 (LSTM)                (None, 150)               109200    \n",
      "_________________________________________________________________\n",
      "dropout_2 (Dropout)          (None, 150)               0         \n",
      "_________________________________________________________________\n",
      "dense_2 (Dense)              (None, 1)                 151       \n",
      "=================================================================\n",
      "Total params: 109,351\n",
      "Trainable params: 109,351\n",
      "Non-trainable params: 0\n",
      "_________________________________________________________________\n",
      "None\n"
     ]
    }
   ],
   "source": [
    "print(model.summary())"
   ]
  },
  {
   "cell_type": "code",
   "execution_count": 99,
   "metadata": {},
   "outputs": [],
   "source": [
    "cp = ModelCheckpoint(filepath=\"/home/angli/model/lstm_model_tn8.h5\",\n",
    "                               save_best_only=True,\n",
    "                               verbose=0)\n",
    "\n",
    "tb = TensorBoard(log_dir='/home/angli/model/lstm_model_tn1_logs/summarytn8',\n",
    "                histogram_freq=0,\n",
    "                write_graph=True,\n",
    "                write_images=True)\n",
    "\n",
    "overfitCallback = EarlyStopping(monitor='val_loss', min_delta=0, patience = 5, mode='auto')"
   ]
  },
  {
   "cell_type": "code",
   "execution_count": 100,
   "metadata": {},
   "outputs": [
    {
     "name": "stdout",
     "output_type": "stream",
     "text": [
      "Train on 1504554 samples, validate on 376139 samples\n"
     ]
    },
    {
     "name": "stderr",
     "output_type": "stream",
     "text": [
      "W0811 04:31:19.076088 140408490039040 deprecation_wrapper.py:119] From /usr/local/lib/python3.5/dist-packages/keras/callbacks.py:850: The name tf.summary.merge_all is deprecated. Please use tf.compat.v1.summary.merge_all instead.\n",
      "\n",
      "W0811 04:31:19.077444 140408490039040 deprecation_wrapper.py:119] From /usr/local/lib/python3.5/dist-packages/keras/callbacks.py:853: The name tf.summary.FileWriter is deprecated. Please use tf.compat.v1.summary.FileWriter instead.\n",
      "\n"
     ]
    },
    {
     "name": "stdout",
     "output_type": "stream",
     "text": [
      "Epoch 1/20\n",
      "1504554/1504554 [==============================] - 1002s 666us/step - loss: 0.1505 - acc: 0.9509 - val_loss: 0.1326 - val_acc: 0.9579\n",
      "Epoch 2/20\n",
      "1504554/1504554 [==============================] - 958s 637us/step - loss: 0.1287 - acc: 0.9599 - val_loss: 0.1347 - val_acc: 0.9571\n",
      "Epoch 3/20\n",
      "1504554/1504554 [==============================] - 982s 653us/step - loss: 0.1242 - acc: 0.9615 - val_loss: 0.1251 - val_acc: 0.9609\n",
      "Epoch 4/20\n",
      "1504554/1504554 [==============================] - 964s 641us/step - loss: 0.1216 - acc: 0.9621 - val_loss: 0.1255 - val_acc: 0.9600\n",
      "Epoch 5/20\n",
      "1504554/1504554 [==============================] - 939s 624us/step - loss: 0.1199 - acc: 0.9625 - val_loss: 0.1227 - val_acc: 0.9617\n",
      "Epoch 6/20\n",
      "1504554/1504554 [==============================] - 926s 615us/step - loss: 0.1183 - acc: 0.9629 - val_loss: 0.1226 - val_acc: 0.9612\n",
      "Epoch 7/20\n",
      "1504554/1504554 [==============================] - 977s 649us/step - loss: 0.1171 - acc: 0.9631 - val_loss: 0.1223 - val_acc: 0.9620\n",
      "Epoch 8/20\n",
      "1504554/1504554 [==============================] - 951s 632us/step - loss: 0.1162 - acc: 0.9632 - val_loss: 0.1208 - val_acc: 0.9617\n",
      "Epoch 9/20\n",
      "1504554/1504554 [==============================] - 946s 629us/step - loss: 0.1153 - acc: 0.9633 - val_loss: 0.1196 - val_acc: 0.9622\n",
      "Epoch 10/20\n",
      "1504554/1504554 [==============================] - 947s 630us/step - loss: 0.1145 - acc: 0.9635 - val_loss: 0.1194 - val_acc: 0.9622\n",
      "Epoch 11/20\n",
      "1504554/1504554 [==============================] - 975s 648us/step - loss: 0.1139 - acc: 0.9636 - val_loss: 0.1192 - val_acc: 0.9621\n",
      "Epoch 12/20\n",
      "1504554/1504554 [==============================] - 936s 622us/step - loss: 0.1132 - acc: 0.9637 - val_loss: 0.1202 - val_acc: 0.9622\n",
      "Epoch 13/20\n",
      "1504554/1504554 [==============================] - 936s 622us/step - loss: 0.1126 - acc: 0.9638 - val_loss: 0.1200 - val_acc: 0.9617\n",
      "Epoch 14/20\n",
      "1504554/1504554 [==============================] - 970s 645us/step - loss: 0.1119 - acc: 0.9640 - val_loss: 0.1191 - val_acc: 0.9621\n",
      "Epoch 15/20\n",
      "1504554/1504554 [==============================] - 966s 642us/step - loss: 0.1113 - acc: 0.9641 - val_loss: 0.1194 - val_acc: 0.9620\n",
      "Epoch 16/20\n",
      "1504554/1504554 [==============================] - 940s 625us/step - loss: 0.1107 - acc: 0.9642 - val_loss: 0.1192 - val_acc: 0.9618\n",
      "Epoch 17/20\n",
      "1504554/1504554 [==============================] - 932s 619us/step - loss: 0.1099 - acc: 0.9644 - val_loss: 0.1210 - val_acc: 0.9617\n",
      "Epoch 18/20\n",
      "1504554/1504554 [==============================] - 953s 634us/step - loss: 0.1093 - acc: 0.9645 - val_loss: 0.1197 - val_acc: 0.9618\n",
      "Epoch 19/20\n",
      "1504554/1504554 [==============================] - 953s 634us/step - loss: 0.1086 - acc: 0.9646 - val_loss: 0.1204 - val_acc: 0.9616\n"
     ]
    }
   ],
   "source": [
    "history = model.fit(train_X, Y_train, validation_split=0.20, epochs=20, batch_size=100, callbacks=[cp, tb, overfitCallback])#batch_size=64"
   ]
  },
  {
   "cell_type": "code",
   "execution_count": 62,
   "metadata": {},
   "outputs": [
    {
     "name": "stderr",
     "output_type": "stream",
     "text": [
      "W0808 16:50:48.460108 139863304599296 deprecation_wrapper.py:119] From /usr/local/lib/python3.5/dist-packages/keras/backend/tensorflow_backend.py:174: The name tf.get_default_session is deprecated. Please use tf.compat.v1.get_default_session instead.\n",
      "\n",
      "W0808 16:50:50.366657 139863304599296 deprecation_wrapper.py:119] From /usr/local/lib/python3.5/dist-packages/keras/optimizers.py:790: The name tf.train.Optimizer is deprecated. Please use tf.compat.v1.train.Optimizer instead.\n",
      "\n",
      "W0808 16:50:50.376963 139863304599296 deprecation.py:323] From /usr/local/lib/python3.5/dist-packages/tensorflow/python/ops/nn_impl.py:180: add_dispatch_support.<locals>.wrapper (from tensorflow.python.ops.array_ops) is deprecated and will be removed in a future version.\n",
      "Instructions for updating:\n",
      "Use tf.where in 2.0, which has the same broadcast rule as np.where\n"
     ]
    }
   ],
   "source": [
    "model = load_model(\"/home/angli/model/lstm_model_tn8.h5\")"
   ]
  },
  {
   "cell_type": "code",
   "execution_count": 63,
   "metadata": {},
   "outputs": [
    {
     "name": "stderr",
     "output_type": "stream",
     "text": [
      "W0808 16:51:00.982039 139863304599296 deprecation_wrapper.py:119] From /usr/local/lib/python3.5/dist-packages/keras/callbacks.py:850: The name tf.summary.merge_all is deprecated. Please use tf.compat.v1.summary.merge_all instead.\n",
      "\n",
      "W0808 16:51:00.983141 139863304599296 deprecation_wrapper.py:119] From /usr/local/lib/python3.5/dist-packages/keras/callbacks.py:853: The name tf.summary.FileWriter is deprecated. Please use tf.compat.v1.summary.FileWriter instead.\n",
      "\n"
     ]
    },
    {
     "name": "stdout",
     "output_type": "stream",
     "text": [
      "Train on 1504554 samples, validate on 376139 samples\n",
      "Epoch 1/10\n",
      "1504554/1504554 [==============================] - 1800s 1ms/step - loss: 0.1290 - acc: 0.9601 - val_loss: 0.1305 - val_acc: 0.9597\n",
      "Epoch 2/10\n",
      "1504554/1504554 [==============================] - 1951s 1ms/step - loss: 0.1274 - acc: 0.9608 - val_loss: 0.1305 - val_acc: 0.9596\n",
      "Epoch 3/10\n",
      "1504554/1504554 [==============================] - 1944s 1ms/step - loss: 0.1261 - acc: 0.9614 - val_loss: 0.1290 - val_acc: 0.9608\n",
      "Epoch 4/10\n",
      "1504554/1504554 [==============================] - 1896s 1ms/step - loss: 0.1251 - acc: 0.9617 - val_loss: 0.1284 - val_acc: 0.9608\n",
      "Epoch 5/10\n",
      "1504554/1504554 [==============================] - 1819s 1ms/step - loss: 0.1244 - acc: 0.9619 - val_loss: 0.1286 - val_acc: 0.9611\n",
      "Epoch 6/10\n",
      "1504554/1504554 [==============================] - 1770s 1ms/step - loss: 0.1239 - acc: 0.9622 - val_loss: 0.1290 - val_acc: 0.9610\n",
      "Epoch 7/10\n",
      "1504554/1504554 [==============================] - 1825s 1ms/step - loss: 0.1232 - acc: 0.9623 - val_loss: 0.1278 - val_acc: 0.9611\n",
      "Epoch 8/10\n",
      "1504554/1504554 [==============================] - 1821s 1ms/step - loss: 0.1228 - acc: 0.9624 - val_loss: 0.1286 - val_acc: 0.9614\n",
      "Epoch 9/10\n",
      "1504554/1504554 [==============================] - 1833s 1ms/step - loss: 0.1223 - acc: 0.9626 - val_loss: 0.1288 - val_acc: 0.9610\n",
      "Epoch 10/10\n",
      "1504554/1504554 [==============================] - 1836s 1ms/step - loss: 0.1219 - acc: 0.9627 - val_loss: 0.1283 - val_acc: 0.9613\n"
     ]
    }
   ],
   "source": [
    "history = model.fit(train_X, Y_train, validation_split=0.20, epochs=10, batch_size=100, callbacks=[cp, tb])#batch_size=64"
   ]
  },
  {
   "cell_type": "code",
   "execution_count": 101,
   "metadata": {},
   "outputs": [
    {
     "data": {
      "image/png": "[encoded data removed]",
      "text/plain": [
       "<Figure size 432x288 with 1 Axes>"
      ]
     },
     "metadata": {
      "needs_background": "light"
     },
     "output_type": "display_data"
    }
   ],
   "source": [
    "# plot train and validation loss\n",
    "pyplot.plot(history.history['loss'])\n",
    "pyplot.plot(history.history['val_loss'])\n",
    "pyplot.title('model train vs validation loss')\n",
    "pyplot.ylabel('loss')\n",
    "pyplot.xlabel('epoch')\n",
    "pyplot.legend(['train', 'validation'], loc='upper right')\n",
    "pyplot.show()"
   ]
  },
  {
   "cell_type": "code",
   "execution_count": 102,
   "metadata": {},
   "outputs": [
    {
     "name": "stdout",
     "output_type": "stream",
     "text": [
      "767156/767156 [==============================] - 63s 82us/step\n",
      "1880693/1880693 [==============================] - 161s 86us/step\n"
     ]
    }
   ],
   "source": [
    "y_test_pred = model.predict(test_X, batch_size=2000, verbose=1)\n",
    "y_train_pred = model.predict(train_X, batch_size=2000, verbose=1)"
   ]
  },
  {
   "cell_type": "code",
   "execution_count": 103,
   "metadata": {},
   "outputs": [],
   "source": [
    "#need to flattern and convert the results into numerical"
   ]
  },
  {
   "cell_type": "code",
   "execution_count": 104,
   "metadata": {},
   "outputs": [],
   "source": [
    "y_test_pred_flatterned = np.array([i[0] for i in y_test_pred])\n",
    "y_train_pred_flatterned = np.array([i[0] for i in y_train_pred])"
   ]
  },
  {
   "cell_type": "code",
   "execution_count": 105,
   "metadata": {},
   "outputs": [],
   "source": [
    "Y_train_num = np.array([i for i in Y_train])\n",
    "Y_test_num = np.array([i for i in Y_test])"
   ]
  },
  {
   "cell_type": "code",
   "execution_count": 106,
   "metadata": {},
   "outputs": [],
   "source": [
    "#final the optimal threshold"
   ]
  },
  {
   "cell_type": "code",
   "execution_count": 107,
   "metadata": {},
   "outputs": [],
   "source": [
    "y_test_pred_ = 1*(y_test_pred_flatterned >= 0.5)\n",
    "y_train_pred_ = 1*(y_train_pred_flatterned >= 0.5)"
   ]
  },
  {
   "cell_type": "code",
   "execution_count": 108,
   "metadata": {},
   "outputs": [
    {
     "data": {
      "text/plain": [
       "array([0, 0, 0, ..., 0, 0, 0])"
      ]
     },
     "execution_count": 108,
     "metadata": {},
     "output_type": "execute_result"
    }
   ],
   "source": [
    "y_test_pred_"
   ]
  },
  {
   "cell_type": "code",
   "execution_count": 109,
   "metadata": {},
   "outputs": [
    {
     "name": "stdout",
     "output_type": "stream",
     "text": [
      "Model Train Recall is 0.689437\n",
      "\n",
      "Model Train Precision is 0.840834\n",
      "\n",
      "Model Train F1-SCORE is 0.757646\n",
      "\n",
      "Model Train Accuracy_score is 0.964439\n",
      "\n",
      "Model AUC is 0.838996\n",
      "\n",
      "Model Train cf: \n",
      " [[1709273   19789]\n",
      " [  47091  104540]]\n"
     ]
    }
   ],
   "source": [
    "print (\"Model Train Recall is %2f\\n\" % (recall_score(Y_train_num, y_train_pred_)))\n",
    "print (\"Model Train Precision is %2f\\n\" % (precision_score(Y_train_num, y_train_pred_)))\n",
    "print (\"Model Train F1-SCORE is %2f\\n\" % (f1_score(Y_train_num, y_train_pred_)))\n",
    "print (\"Model Train Accuracy_score is %2f\\n\" % (accuracy_score(Y_train_num, y_train_pred_)))\n",
    "print (\"Model AUC is %2f\\n\" % (roc_auc_score(Y_train_num, y_train_pred_)))\n",
    "print (\"Model Train cf: \\n\", confusion_matrix(Y_train_num, y_train_pred_))"
   ]
  },
  {
   "cell_type": "code",
   "execution_count": 110,
   "metadata": {},
   "outputs": [
    {
     "name": "stdout",
     "output_type": "stream",
     "text": [
      "Model Testing Recall is 0.659398\n",
      "\n",
      "Model Testing Precision is 0.812006\n",
      "\n",
      "Model Testing F1-SCORE is 0.727788\n",
      "\n",
      "Model Testing Accuracy_score is 0.962199\n",
      "\n",
      "Model AUC is 0.947691\n",
      "\n",
      "Model Test cf: \n",
      " [[699391   8975]\n",
      " [ 20024  38766]]\n"
     ]
    }
   ],
   "source": [
    "print (\"Model Testing Recall is %2f\\n\" % (recall_score(Y_test_num, y_test_pred_)))\n",
    "print (\"Model Testing Precision is %2f\\n\" % (precision_score(Y_test_num, y_test_pred_)))\n",
    "print (\"Model Testing F1-SCORE is %2f\\n\" % (f1_score(Y_test_num, y_test_pred_)))\n",
    "print (\"Model Testing Accuracy_score is %2f\\n\" % (accuracy_score(Y_test_num, y_test_pred_)))\n",
    "print (\"Model AUC is %2f\\n\" % (roc_auc_score(Y_test_num, y_test_pred_flatterned)))\n",
    "print (\"Model Test cf: \\n\", confusion_matrix(Y_test_num, y_test_pred_))"
   ]
  },
  {
   "cell_type": "code",
   "execution_count": 111,
   "metadata": {},
   "outputs": [],
   "source": [
    "model = load_model(\"/home/angli/model/lstm_model_tn8.h5\")"
   ]
  },
  {
   "cell_type": "code",
   "execution_count": 112,
   "metadata": {},
   "outputs": [
    {
     "name": "stdout",
     "output_type": "stream",
     "text": [
      "767156/767156 [==============================] - 48s 63us/step\n",
      "1880693/1880693 [==============================] - 124s 66us/step\n"
     ]
    }
   ],
   "source": [
    "y_test_pred = model.predict(test_X, batch_size=2000, verbose=1)\n",
    "y_train_pred = model.predict(train_X, batch_size=2000, verbose=1)"
   ]
  },
  {
   "cell_type": "code",
   "execution_count": 113,
   "metadata": {},
   "outputs": [],
   "source": [
    "y_test_pred_flatterned = np.array([i[0] for i in y_test_pred])\n",
    "y_train_pred_flatterned = np.array([i[0] for i in y_train_pred])"
   ]
  },
  {
   "cell_type": "code",
   "execution_count": 114,
   "metadata": {},
   "outputs": [],
   "source": [
    "Y_train_num = np.array([i for i in Y_train])\n",
    "Y_test_num = np.array([i for i in Y_test])"
   ]
  },
  {
   "cell_type": "code",
   "execution_count": 115,
   "metadata": {},
   "outputs": [],
   "source": [
    "y_test_pred_ = 1*(y_test_pred_flatterned >= 0.5)\n",
    "y_train_pred_ = 1*(y_train_pred_flatterned >= 0.5)"
   ]
  },
  {
   "cell_type": "code",
   "execution_count": 116,
   "metadata": {},
   "outputs": [
    {
     "name": "stdout",
     "output_type": "stream",
     "text": [
      "Model Train Recall is 0.686014\n",
      "\n",
      "Model Train Precision is 0.836309\n",
      "\n",
      "Model Train F1-SCORE is 0.753743\n",
      "\n",
      "Model Train Accuracy_score is 0.963859\n",
      "\n",
      "Model AUC is 0.837119\n",
      "\n",
      "Model Train cf: \n",
      " [[1708702   20360]\n",
      " [  47610  104021]]\n"
     ]
    }
   ],
   "source": [
    "print (\"Model Train Recall is %2f\\n\" % (recall_score(Y_train_num, y_train_pred_)))\n",
    "print (\"Model Train Precision is %2f\\n\" % (precision_score(Y_train_num, y_train_pred_)))\n",
    "print (\"Model Train F1-SCORE is %2f\\n\" % (f1_score(Y_train_num, y_train_pred_)))\n",
    "print (\"Model Train Accuracy_score is %2f\\n\" % (accuracy_score(Y_train_num, y_train_pred_)))\n",
    "print (\"Model AUC is %2f\\n\" % (roc_auc_score(Y_train_num, y_train_pred_)))\n",
    "print (\"Model Train cf: \\n\", confusion_matrix(Y_train_num, y_train_pred_))"
   ]
  },
  {
   "cell_type": "code",
   "execution_count": 117,
   "metadata": {},
   "outputs": [
    {
     "name": "stdout",
     "output_type": "stream",
     "text": [
      "Model Testing Recall is 0.660844\n",
      "\n",
      "Model Testing Precision is 0.814674\n",
      "\n",
      "Model Testing F1-SCORE is 0.729740\n",
      "\n",
      "Model Testing Accuracy_score is 0.962489\n",
      "\n",
      "Model AUC is 0.947099\n",
      "\n",
      "Model Test cf: \n",
      " [[699528   8838]\n",
      " [ 19939  38851]]\n"
     ]
    }
   ],
   "source": [
    "print (\"Model Testing Recall is %2f\\n\" % (recall_score(Y_test_num, y_test_pred_)))\n",
    "print (\"Model Testing Precision is %2f\\n\" % (precision_score(Y_test_num, y_test_pred_)))\n",
    "print (\"Model Testing F1-SCORE is %2f\\n\" % (f1_score(Y_test_num, y_test_pred_)))\n",
    "print (\"Model Testing Accuracy_score is %2f\\n\" % (accuracy_score(Y_test_num, y_test_pred_)))\n",
    "print (\"Model AUC is %2f\\n\" % (roc_auc_score(Y_test_num, y_test_pred_flatterned)))\n",
    "print (\"Model Test cf: \\n\", confusion_matrix(Y_test_num, y_test_pred_))"
   ]
  },
  {
   "cell_type": "markdown",
   "metadata": {},
   "source": [
    "### save the model"
   ]
  },
  {
   "cell_type": "code",
   "execution_count": 65,
   "metadata": {},
   "outputs": [
    {
     "name": "stdout",
     "output_type": "stream",
     "text": [
      "/home/angli/model\n"
     ]
    }
   ],
   "source": [
    "cd /home/angli/model"
   ]
  },
  {
   "cell_type": "code",
   "execution_count": 66,
   "metadata": {},
   "outputs": [
    {
     "name": "stdout",
     "output_type": "stream",
     "text": [
      "Saved model to disk\n"
     ]
    }
   ],
   "source": [
    "# serialize model to JSON\n",
    "model_json = model.to_json()\n",
    "with open(\"model_tn1.json\", \"w\") as json_file:\n",
    "    json_file.write(model_json)\n",
    "# serialize weights to HDF5\n",
    "model.save_weights(\"model_tn1.h5\")\n",
    "print(\"Saved model to disk\")"
   ]
  },
  {
   "cell_type": "code",
   "execution_count": 67,
   "metadata": {},
   "outputs": [],
   "source": [
    "# later...\n",
    " # load json and create model\n",
    "json_file = open('model_tn1.json', 'r')\n",
    "loaded_model_json = json_file.read()\n",
    "json_file.close()"
   ]
  },
  {
   "cell_type": "code",
   "execution_count": 68,
   "metadata": {},
   "outputs": [],
   "source": [
    "from keras.models import model_from_json"
   ]
  },
  {
   "cell_type": "code",
   "execution_count": 69,
   "metadata": {},
   "outputs": [
    {
     "name": "stdout",
     "output_type": "stream",
     "text": [
      "Loaded model from disk\n"
     ]
    }
   ],
   "source": [
    "model = model_from_json(loaded_model_json)\n",
    "# load weights into new model\n",
    "model.load_weights(\"model_tn1.h5\")\n",
    "print(\"Loaded model from disk\")"
   ]
  },
  {
   "cell_type": "code",
   "execution_count": 73,
   "metadata": {},
   "outputs": [],
   "source": [
    "adam = optimizers.Adam(lr=0.0001)"
   ]
  },
  {
   "cell_type": "code",
   "execution_count": 74,
   "metadata": {},
   "outputs": [],
   "source": [
    " # evaluate loaded model on test data\n",
    "model.compile(optimizer='adam', loss='binary_crossentropy', \n",
    "              metrics=['acc',precision_m, recall_m])"
   ]
  },
  {
   "cell_type": "code",
   "execution_count": 75,
   "metadata": {},
   "outputs": [],
   "source": [
    "cp = ModelCheckpoint(filepath=\"lstm_model_tn1_v2.h5\",\n",
    "                               save_best_only=True,\n",
    "                               verbose=0)\n",
    "\n",
    "tb = TensorBoard(log_dir='./logs',\n",
    "                histogram_freq=0,\n",
    "                write_graph=True,\n",
    "                write_images=True)"
   ]
  },
  {
   "cell_type": "code",
   "execution_count": null,
   "metadata": {},
   "outputs": [],
   "source": []
  }
 ],
 "metadata": {
  "kernelspec": {
   "display_name": "Python 3",
   "language": "python",
   "name": "python3"
  },
  "language_info": {
   "codemirror_mode": {
    "name": "ipython",
    "version": 3
   },
   "file_extension": ".py",
   "mimetype": "text/x-python",
   "name": "python",
   "nbconvert_exporter": "python",
   "pygments_lexer": "ipython3",
   "version": "3.5.3"
  }
 },
 "nbformat": 4,
 "nbformat_minor": 2
}
