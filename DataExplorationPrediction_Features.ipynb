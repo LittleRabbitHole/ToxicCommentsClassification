{
 "cells": [
  {
   "cell_type": "code",
   "execution_count": 3,
   "metadata": {},
   "outputs": [
    {
     "name": "stdout",
     "output_type": "stream",
     "text": [
      "/Users/angli/Documents/GitHub/ToxicCommentsClassification\n"
     ]
    }
   ],
   "source": [
    "cd /Users/angli/Documents/GitHub/ToxicCommentsClassification"
   ]
  },
  {
   "cell_type": "code",
   "execution_count": 4,
   "metadata": {},
   "outputs": [
    {
     "name": "stdout",
     "output_type": "stream",
     "text": [
      "\u001b[31mAll_Wordcloud.py\u001b[m\u001b[m*\r\n",
      "CleanCommentGenerator.py\r\n",
      "Comment2VecPlot.py\r\n",
      "CommentsFeaturesGenerator.py\r\n",
      "DataExplorationPrediction_Features.ipynb\r\n",
      "DataExplorationPrediction_w2v.ipynb\r\n",
      "README.md\r\n",
      "ToxicCommentAnalysis.ipynb\r\n",
      "Word2Vec_merge.py\r\n",
      "Word2Vec_plot.py\r\n",
      "\u001b[1m\u001b[36mcabin-sketch-v1.02\u001b[m\u001b[m/\r\n",
      "\u001b[31mreport_update.docx\u001b[m\u001b[m*\r\n",
      "usingW2V.py\r\n",
      "w2v_train.py\r\n",
      "\u001b[1m\u001b[36mword_cloud_pngs\u001b[m\u001b[m/\r\n",
      "\u001b[31mwordcloud.pyc\u001b[m\u001b[m*\r\n",
      "x_tsne.csv\r\n",
      "x_tsne.png\r\n"
     ]
    }
   ],
   "source": [
    "ls"
   ]
  },
  {
   "cell_type": "code",
   "execution_count": 5,
   "metadata": {},
   "outputs": [
    {
     "name": "stdout",
     "output_type": "stream",
     "text": [
      "0.19.1\n"
     ]
    }
   ],
   "source": [
    "import sklearn\n",
    "print (sklearn.__version__)"
   ]
  },
  {
   "cell_type": "code",
   "execution_count": 6,
   "metadata": {
    "collapsed": true
   },
   "outputs": [],
   "source": [
    "from sklearn.model_selection import train_test_split\n",
    "from sklearn.naive_bayes import BernoulliNB\n",
    "from sklearn.linear_model import LogisticRegression\n",
    "#from sklearn.svm import SVC\n",
    "from sklearn import tree\n",
    "from sklearn.ensemble import BaggingClassifier, AdaBoostClassifier\n",
    "from sklearn.metrics import log_loss, f1_score, accuracy_score\n",
    "from sklearn.neural_network import MLPClassifier"
   ]
  },
  {
   "cell_type": "code",
   "execution_count": 7,
   "metadata": {
    "collapsed": true
   },
   "outputs": [],
   "source": [
    "import sys, os, re, csv, codecs, numpy as np, pandas as pd\n",
    "from PIL import Image\n",
    "from matplotlib import pyplot as plt\n",
    "from matplotlib import gridspec\n",
    "import seaborn as sns\n",
    "sns.set_style(\"dark\")\n",
    "sns.set(font_scale=1.3)"
   ]
  },
  {
   "cell_type": "code",
   "execution_count": 14,
   "metadata": {
    "collapsed": true
   },
   "outputs": [],
   "source": [
    "train = pd.read_csv(\"/Users/angli/Ang/OneDrive/Documents/Pitt_PhD/Class/2018Spring/ML/finalProject/data/train_features.csv\")"
   ]
  },
  {
   "cell_type": "code",
   "execution_count": 16,
   "metadata": {
    "collapsed": true
   },
   "outputs": [],
   "source": [
    "train = train.set_index('id')"
   ]
  },
  {
   "cell_type": "code",
   "execution_count": 75,
   "metadata": {},
   "outputs": [
    {
     "data": {
      "text/plain": [
       "array(['total_length', 'capitals', 'caps_vs_length',\n",
       "       'num_exclamation_marks', 'num_question_marks', 'num_punctuation',\n",
       "       'num_symbols', 'num_we', 'num_words', 'num_unique_words',\n",
       "       'words_vs_unique', 'num_smilies', 'num_IP', 'num_URL',\n",
       "       'num_positive', 'num_negtive', 'score'], dtype=object)"
      ]
     },
     "execution_count": 75,
     "metadata": {},
     "output_type": "execute_result"
    }
   ],
   "source": [
    "train.columns.values[0:17]"
   ]
  },
  {
   "cell_type": "code",
   "execution_count": 17,
   "metadata": {},
   "outputs": [
    {
     "data": {
      "text/plain": [
       "array(['toxic', 'severe_toxic', 'obscene', 'threat', 'insult',\n",
       "       'identity_hate'], dtype=object)"
      ]
     },
     "execution_count": 17,
     "metadata": {},
     "output_type": "execute_result"
    }
   ],
   "source": [
    "train.columns.values[17:24]"
   ]
  },
  {
   "cell_type": "code",
   "execution_count": 18,
   "metadata": {},
   "outputs": [
    {
     "data": {
      "text/plain": [
       "(159571, 23)"
      ]
     },
     "execution_count": 18,
     "metadata": {},
     "output_type": "execute_result"
    }
   ],
   "source": [
    "train.shape"
   ]
  },
  {
   "cell_type": "code",
   "execution_count": 19,
   "metadata": {},
   "outputs": [
    {
     "data": {
      "text/html": [
       "<div>\n",
       "<style scoped>\n",
       "    .dataframe tbody tr th:only-of-type {\n",
       "        vertical-align: middle;\n",
       "    }\n",
       "\n",
       "    .dataframe tbody tr th {\n",
       "        vertical-align: top;\n",
       "    }\n",
       "\n",
       "    .dataframe thead th {\n",
       "        text-align: right;\n",
       "    }\n",
       "</style>\n",
       "<table border=\"1\" class=\"dataframe\">\n",
       "  <thead>\n",
       "    <tr style=\"text-align: right;\">\n",
       "      <th></th>\n",
       "      <th>total_length</th>\n",
       "      <th>capitals</th>\n",
       "      <th>caps_vs_length</th>\n",
       "      <th>num_exclamation_marks</th>\n",
       "      <th>num_question_marks</th>\n",
       "      <th>num_punctuation</th>\n",
       "      <th>num_symbols</th>\n",
       "      <th>num_we</th>\n",
       "      <th>num_words</th>\n",
       "      <th>num_unique_words</th>\n",
       "      <th>...</th>\n",
       "      <th>num_URL</th>\n",
       "      <th>num_positive</th>\n",
       "      <th>num_negtive</th>\n",
       "      <th>score</th>\n",
       "      <th>toxic</th>\n",
       "      <th>severe_toxic</th>\n",
       "      <th>obscene</th>\n",
       "      <th>threat</th>\n",
       "      <th>insult</th>\n",
       "      <th>identity_hate</th>\n",
       "    </tr>\n",
       "    <tr>\n",
       "      <th>id</th>\n",
       "      <th></th>\n",
       "      <th></th>\n",
       "      <th></th>\n",
       "      <th></th>\n",
       "      <th></th>\n",
       "      <th></th>\n",
       "      <th></th>\n",
       "      <th></th>\n",
       "      <th></th>\n",
       "      <th></th>\n",
       "      <th></th>\n",
       "      <th></th>\n",
       "      <th></th>\n",
       "      <th></th>\n",
       "      <th></th>\n",
       "      <th></th>\n",
       "      <th></th>\n",
       "      <th></th>\n",
       "      <th></th>\n",
       "      <th></th>\n",
       "      <th></th>\n",
       "    </tr>\n",
       "  </thead>\n",
       "  <tbody>\n",
       "    <tr>\n",
       "      <th>0000997932d777bf</th>\n",
       "      <td>264</td>\n",
       "      <td>17</td>\n",
       "      <td>0.064394</td>\n",
       "      <td>0</td>\n",
       "      <td>1</td>\n",
       "      <td>6</td>\n",
       "      <td>0</td>\n",
       "      <td>2</td>\n",
       "      <td>42</td>\n",
       "      <td>41</td>\n",
       "      <td>...</td>\n",
       "      <td>0</td>\n",
       "      <td>1</td>\n",
       "      <td>8</td>\n",
       "      <td>0.036475</td>\n",
       "      <td>0</td>\n",
       "      <td>0</td>\n",
       "      <td>0</td>\n",
       "      <td>0</td>\n",
       "      <td>0</td>\n",
       "      <td>0</td>\n",
       "    </tr>\n",
       "    <tr>\n",
       "      <th>000103f0d9cfb60f</th>\n",
       "      <td>112</td>\n",
       "      <td>8</td>\n",
       "      <td>0.071428</td>\n",
       "      <td>1</td>\n",
       "      <td>0</td>\n",
       "      <td>5</td>\n",
       "      <td>0</td>\n",
       "      <td>0</td>\n",
       "      <td>18</td>\n",
       "      <td>17</td>\n",
       "      <td>...</td>\n",
       "      <td>0</td>\n",
       "      <td>1</td>\n",
       "      <td>1</td>\n",
       "      <td>0.000000</td>\n",
       "      <td>0</td>\n",
       "      <td>0</td>\n",
       "      <td>0</td>\n",
       "      <td>0</td>\n",
       "      <td>0</td>\n",
       "      <td>0</td>\n",
       "    </tr>\n",
       "    <tr>\n",
       "      <th>000113f07ec002fd</th>\n",
       "      <td>233</td>\n",
       "      <td>4</td>\n",
       "      <td>0.017167</td>\n",
       "      <td>0</td>\n",
       "      <td>0</td>\n",
       "      <td>4</td>\n",
       "      <td>0</td>\n",
       "      <td>0</td>\n",
       "      <td>42</td>\n",
       "      <td>39</td>\n",
       "      <td>...</td>\n",
       "      <td>0</td>\n",
       "      <td>0</td>\n",
       "      <td>3</td>\n",
       "      <td>0.030142</td>\n",
       "      <td>0</td>\n",
       "      <td>0</td>\n",
       "      <td>0</td>\n",
       "      <td>0</td>\n",
       "      <td>0</td>\n",
       "      <td>0</td>\n",
       "    </tr>\n",
       "  </tbody>\n",
       "</table>\n",
       "<p>3 rows × 23 columns</p>\n",
       "</div>"
      ],
      "text/plain": [
       "                  total_length  capitals  caps_vs_length  \\\n",
       "id                                                         \n",
       "0000997932d777bf           264        17        0.064394   \n",
       "000103f0d9cfb60f           112         8        0.071428   \n",
       "000113f07ec002fd           233         4        0.017167   \n",
       "\n",
       "                  num_exclamation_marks  num_question_marks  num_punctuation  \\\n",
       "id                                                                             \n",
       "0000997932d777bf                      0                   1                6   \n",
       "000103f0d9cfb60f                      1                   0                5   \n",
       "000113f07ec002fd                      0                   0                4   \n",
       "\n",
       "                  num_symbols  num_we  num_words  num_unique_words  \\\n",
       "id                                                                   \n",
       "0000997932d777bf            0       2         42                41   \n",
       "000103f0d9cfb60f            0       0         18                17   \n",
       "000113f07ec002fd            0       0         42                39   \n",
       "\n",
       "                      ...        num_URL  num_positive  num_negtive     score  \\\n",
       "id                    ...                                                       \n",
       "0000997932d777bf      ...              0             1            8  0.036475   \n",
       "000103f0d9cfb60f      ...              0             1            1  0.000000   \n",
       "000113f07ec002fd      ...              0             0            3  0.030142   \n",
       "\n",
       "                  toxic  severe_toxic  obscene  threat  insult  identity_hate  \n",
       "id                                                                             \n",
       "0000997932d777bf      0             0        0       0       0              0  \n",
       "000103f0d9cfb60f      0             0        0       0       0              0  \n",
       "000113f07ec002fd      0             0        0       0       0              0  \n",
       "\n",
       "[3 rows x 23 columns]"
      ]
     },
     "execution_count": 19,
     "metadata": {},
     "output_type": "execute_result"
    }
   ],
   "source": [
    "train.head(3)"
   ]
  },
  {
   "cell_type": "markdown",
   "metadata": {},
   "source": [
    "### feature exploration"
   ]
  },
  {
   "cell_type": "code",
   "execution_count": 20,
   "metadata": {},
   "outputs": [
    {
     "data": {
      "text/plain": [
       "16225"
      ]
     },
     "execution_count": 20,
     "metadata": {},
     "output_type": "execute_result"
    }
   ],
   "source": [
    "#make the label as binary classification\n",
    "rowsums=train.iloc[:,17:24].sum(axis=1)\n",
    "#sum(list(rowsums>0))\n",
    "train['dirty']=(rowsums>0)\n",
    "train['dirty'].sum()"
   ]
  },
  {
   "cell_type": "code",
   "execution_count": 21,
   "metadata": {},
   "outputs": [
    {
     "data": {
      "text/plain": [
       "143346"
      ]
     },
     "execution_count": 21,
     "metadata": {},
     "output_type": "execute_result"
    }
   ],
   "source": [
    "train['clean']=(rowsums==0)\n",
    "train['clean'].sum()"
   ]
  },
  {
   "cell_type": "code",
   "execution_count": 22,
   "metadata": {},
   "outputs": [
    {
     "name": "stdout",
     "output_type": "stream",
     "text": [
      "Total rows in train is 159571\n",
      "toxic             15294.0\n",
      "severe_toxic       1595.0\n",
      "obscene            8449.0\n",
      "threat              478.0\n",
      "insult             7877.0\n",
      "identity_hate      1405.0\n",
      "dirty             16225.0\n",
      "clean            143346.0\n",
      "dtype: float64\n"
     ]
    }
   ],
   "source": [
    "#count each severity \n",
    "print('Total rows in train is {}'.format(len(train)))\n",
    "print(train.iloc[:,17:25].sum())"
   ]
  },
  {
   "cell_type": "code",
   "execution_count": 34,
   "metadata": {},
   "outputs": [
    {
     "data": {
      "image/png": "[encoded data removed]",
      "text/plain": [
       "<Figure size 432x576 with 1 Axes>"
      ]
     },
     "metadata": {},
     "output_type": "display_data"
    }
   ],
   "source": [
    "x=train.iloc[:,23:25].sum()\n",
    "\n",
    "plt.figure(figsize=(6,8))\n",
    "ax= sns.barplot(x.index, x.values) #,palette=palette\n",
    "plt.title(\"Class Distribution\", fontsize=16)\n",
    "plt.ylabel('Occurrences', fontsize=14)\n",
    "plt.xlabel('Type ', fontsize=14)\n",
    "rects = ax.patches\n",
    "labels = x.values\n",
    "for rect, label in zip(rects, labels):\n",
    "    height = rect.get_height()\n",
    "    ax.text(rect.get_x() + rect.get_width()/2, height + 10, label, \n",
    "            ha='center', va='bottom')\n",
    "\n",
    "plt.show()"
   ]
  },
  {
   "cell_type": "code",
   "execution_count": 26,
   "metadata": {},
   "outputs": [
    {
     "name": "stdout",
     "output_type": "stream",
     "text": [
      "percentage of labeled data is:  0.10167887648758234\n"
     ]
    }
   ],
   "source": [
    "print(\"percentage of labeled data is: \", (159571 - 143346)/159571)"
   ]
  },
  {
   "cell_type": "code",
   "execution_count": 36,
   "metadata": {},
   "outputs": [
    {
     "data": {
      "text/plain": [
       "Text(0,0.5,'Occurrences')"
      ]
     },
     "execution_count": 36,
     "metadata": {},
     "output_type": "execute_result"
    },
    {
     "data": {
      "image/png": "[encoded data removed]",
      "text/plain": [
       "<Figure size 720x432 with 1 Axes>"
      ]
     },
     "metadata": {},
     "output_type": "display_data"
    }
   ],
   "source": [
    "plt.figure(figsize=(10,6))\n",
    "plt.hist(list(train[\"num_words\"]),bins = np.arange(0,410,10))\n",
    "plt.title(\"Comment length distribution\", fontsize=16)\n",
    "plt.xlabel('N of words', fontsize=14)\n",
    "plt.ylabel('Occurrences', fontsize=14)"
   ]
  },
  {
   "cell_type": "code",
   "execution_count": 28,
   "metadata": {},
   "outputs": [
    {
     "data": {
      "text/plain": [
       "(array([69218., 38477., 19033., 10535.,  6243.,  4111.,  2928.,  1975.,\n",
       "         1309.,   986.,   875.,   607.,   512.,   556.,   316.,   252.,\n",
       "          235.,   196.,   156.,   166.,   134.,   101.,    97.,   118.]),\n",
       " array([ 0,  2,  4,  6,  8, 10, 12, 14, 16, 18, 20, 22, 24, 26, 28, 30, 32,\n",
       "        34, 36, 38, 40, 42, 44, 46, 48]),\n",
       " <a list of 24 Patch objects>)"
      ]
     },
     "execution_count": 28,
     "metadata": {},
     "output_type": "execute_result"
    },
    {
     "data": {
      "image/png": "[encoded data removed]",
      "text/plain": [
       "<Figure size 720x432 with 1 Axes>"
      ]
     },
     "metadata": {},
     "output_type": "display_data"
    }
   ],
   "source": [
    "plt.figure(figsize=(10,6))\n",
    "plt.hist(list(train[\"num_positive\"]),bins = np.arange(0,50,2))"
   ]
  },
  {
   "cell_type": "code",
   "execution_count": 29,
   "metadata": {},
   "outputs": [
    {
     "data": {
      "text/plain": [
       "(array([44376., 35861., 22052., 14479.,  9941.,  7163.,  5207.,  3759.,\n",
       "         2746.,  2179.,  1717.,  1307.,  1198.,   982.,   682.,   703.,\n",
       "          516.,   491.,   339.,   302.,   272.,   268.,   243.,   314.]),\n",
       " array([ 0,  2,  4,  6,  8, 10, 12, 14, 16, 18, 20, 22, 24, 26, 28, 30, 32,\n",
       "        34, 36, 38, 40, 42, 44, 46, 48]),\n",
       " <a list of 24 Patch objects>)"
      ]
     },
     "execution_count": 29,
     "metadata": {},
     "output_type": "execute_result"
    },
    {
     "data": {
      "image/png": "[encoded data removed]",
      "text/plain": [
       "<Figure size 720x432 with 1 Axes>"
      ]
     },
     "metadata": {},
     "output_type": "display_data"
    }
   ],
   "source": [
    "plt.figure(figsize=(10,6))\n",
    "plt.hist(list(train[\"num_negtive\"]),bins = np.arange(0,50,2))"
   ]
  },
  {
   "cell_type": "code",
   "execution_count": 84,
   "metadata": {},
   "outputs": [
    {
     "data": {
      "text/plain": [
       "<matplotlib.axes._subplots.AxesSubplot at 0x1a2498eac8>"
      ]
     },
     "execution_count": 84,
     "metadata": {},
     "output_type": "execute_result"
    },
    {
     "data": {
      "image/png": "[encoded data removed]",
      "text/plain": [
       "<Figure size 720x720 with 2 Axes>"
      ]
     },
     "metadata": {},
     "output_type": "display_data"
    }
   ],
   "source": [
    "colormap = plt.cm.plasma\n",
    "plt.figure(figsize=(10,10))\n",
    "plt.title('Correlation of basic features & targets',y=1.05,size=14)\n",
    "sns.heatmap(train[['num_punctuation','capitals','num_exclamation_marks','num_question_marks', 'num_we','num_IP', 'num_URL', 'dirty']].astype(float).corr(),linewidths=0.1,vmax=1.0,square=True,cmap=colormap,\n",
    "           linecolor='white',annot=True)"
   ]
  },
  {
   "cell_type": "code",
   "execution_count": 86,
   "metadata": {},
   "outputs": [
    {
     "data": {
      "text/plain": [
       "<matplotlib.axes._subplots.AxesSubplot at 0x113555550>"
      ]
     },
     "execution_count": 86,
     "metadata": {},
     "output_type": "execute_result"
    },
    {
     "data": {
      "image/png": "[encoded data removed]",
      "text/plain": [
       "<Figure size 720x720 with 2 Axes>"
      ]
     },
     "metadata": {},
     "output_type": "display_data"
    }
   ],
   "source": [
    "colormap = plt.cm.plasma\n",
    "plt.figure(figsize=(10,10))\n",
    "plt.title('Correlation of expanded features & targets',y=1.05,size=14)\n",
    "sns.heatmap(train[[ 'total_length','num_words', 'num_unique_words','num_positive', 'num_negtive', 'score', 'dirty']].astype(float).corr(),linewidths=0.1,vmax=1.0,square=True,cmap=colormap,\n",
    "           linecolor='white',annot=True)"
   ]
  },
  {
   "cell_type": "markdown",
   "metadata": {},
   "source": [
    "### prediction"
   ]
  },
  {
   "cell_type": "code",
   "execution_count": 37,
   "metadata": {
    "collapsed": true
   },
   "outputs": [],
   "source": [
    "y = train['dirty']\n",
    "x = train[['total_length', 'capitals', 'caps_vs_length',\n",
    "       'num_exclamation_marks', 'num_question_marks', 'num_punctuation',\n",
    "       'num_symbols', 'num_we', 'num_words', 'num_unique_words',\n",
    "       'words_vs_unique', 'num_smilies', 'num_IP', 'num_URL',\n",
    "       'num_positive', 'num_negtive', 'score']]"
   ]
  },
  {
   "cell_type": "code",
   "execution_count": 38,
   "metadata": {
    "collapsed": true
   },
   "outputs": [],
   "source": [
    "#train, test 7/3\n",
    "xtrain, xtest, ytrain, ytest = train_test_split(x, y, random_state=42, \n",
    "                                                  test_size=0.3, shuffle=True)"
   ]
  },
  {
   "cell_type": "code",
   "execution_count": 39,
   "metadata": {},
   "outputs": [
    {
     "data": {
      "text/plain": [
       "0.1016839900088631"
      ]
     },
     "execution_count": 39,
     "metadata": {},
     "output_type": "execute_result"
    }
   ],
   "source": [
    "ytrain.sum()/len(ytrain)"
   ]
  },
  {
   "cell_type": "code",
   "execution_count": 26,
   "metadata": {},
   "outputs": [
    {
     "name": "stdout",
     "output_type": "stream",
     "text": [
      "Training Accuracy Rate: 0.9034637731761251\n",
      "Training F1 score: 0.13493782591255515\n",
      "Testing Accuracy Rate: 0.9033046457219251\n",
      "Testing F1 score: 0.13330836921924732\n"
     ]
    }
   ],
   "source": [
    "#logistic regression\n",
    "model = LogisticRegression(penalty='l2')\n",
    "model.fit(xtrain,ytrain)\n",
    "\n",
    "prd_test = model.predict(xtest)\n",
    "#prd_test_label = prd_test.astype(int)\n",
    "    \n",
    "prd_train = model.predict(xtrain)\n",
    "#prd_train_label = prd_train.astype(int)\n",
    "    \n",
    "train_accuracy = accuracy_score(ytrain, prd_train)\n",
    "train_f1 = f1_score(ytrain, prd_train)\n",
    "test_accuracy = accuracy_score(ytest,prd_test)\n",
    "test_f1 = f1_score(ytest,prd_test)\n",
    "    \n",
    "print('Training Accuracy Rate:', train_accuracy)\n",
    "print('Training F1 score:', train_f1)\n",
    "print('Testing Accuracy Rate:', test_accuracy)\n",
    "print('Testing F1 score:', test_f1)"
   ]
  },
  {
   "cell_type": "code",
   "execution_count": 107,
   "metadata": {},
   "outputs": [
    {
     "name": "stdout",
     "output_type": "stream",
     "text": [
      "Training Accuracy Rate: 0.8865970151926159\n",
      "Training F1 score: 0.2391735239353715\n",
      "Testing Accuracy Rate: 0.8857996323529411\n",
      "Testing F1 score: 0.24290264506301068\n"
     ]
    }
   ],
   "source": [
    "#naive bayes\n",
    "model = BernoulliNB()\n",
    "model.fit(xtrain,ytrain)\n",
    "\n",
    "prd_test = model.predict(xtest)\n",
    "#prd_test_label = prd_test.astype(int)\n",
    "    \n",
    "prd_train = model.predict(xtrain)\n",
    "#prd_train_label = prd_train.astype(int)\n",
    "    \n",
    "train_accuracy = accuracy_score(ytrain, prd_train)\n",
    "train_f1 = f1_score(ytrain, prd_train)\n",
    "test_accuracy = accuracy_score(ytest,prd_test)\n",
    "test_f1 = f1_score(ytest,prd_test)\n",
    "    \n",
    "print('Training Accuracy Rate:', train_accuracy)\n",
    "print('Training F1 score:', train_f1)\n",
    "print('Testing Accuracy Rate:', test_accuracy)\n",
    "print('Testing F1 score:', test_f1)"
   ]
  },
  {
   "cell_type": "code",
   "execution_count": 34,
   "metadata": {},
   "outputs": [
    {
     "name": "stdout",
     "output_type": "stream",
     "text": [
      "Training Accuracy Rate: 0.9588716103098506\n",
      "Training F1 score: 0.7825222495739442\n",
      "Testing Accuracy Rate: 0.8764622326203209\n",
      "Testing F1 score: 0.3584291603384683\n"
     ]
    }
   ],
   "source": [
    "#tree\n",
    "model = tree.DecisionTreeClassifier(criterion='gini', min_samples_split=5, min_samples_leaf=3)\n",
    "model.fit(xtrain,ytrain)\n",
    "\n",
    "prd_test = model.predict(xtest)\n",
    "#prd_test_label = prd_test.astype(int)\n",
    "    \n",
    "prd_train = model.predict(xtrain)\n",
    "#prd_train_label = prd_train.astype(int)\n",
    "    \n",
    "train_accuracy = accuracy_score(ytrain, prd_train)\n",
    "train_f1 = f1_score(ytrain, prd_train)\n",
    "test_accuracy = accuracy_score(ytest,prd_test)\n",
    "test_f1 = f1_score(ytest,prd_test)\n",
    "    \n",
    "print('Training Accuracy Rate:', train_accuracy)\n",
    "print('Training F1 score:', train_f1)\n",
    "print('Testing Accuracy Rate:', test_accuracy)\n",
    "print('Testing F1 score:', test_f1)"
   ]
  },
  {
   "cell_type": "code",
   "execution_count": 40,
   "metadata": {},
   "outputs": [
    {
     "data": {
      "text/plain": [
       "BaggingClassifier(base_estimator=DecisionTreeClassifier(class_weight=None, criterion='entropy', max_depth=None,\n",
       "            max_features=None, max_leaf_nodes=None,\n",
       "            min_impurity_decrease=0.0, min_impurity_split=None,\n",
       "            min_samples_leaf=1, min_samples_split=2,\n",
       "            min_weight_fraction_leaf=0.0, presort=False, random_state=None,\n",
       "            splitter='best'),\n",
       "         bootstrap=True, bootstrap_features=False, max_features=1.0,\n",
       "         max_samples=1.0, n_estimators=100, n_jobs=5, oob_score=False,\n",
       "         random_state=1, verbose=0, warm_start=False)"
      ]
     },
     "execution_count": 40,
     "metadata": {},
     "output_type": "execute_result"
    }
   ],
   "source": [
    "#bagging of decision tree -- entropy\n",
    "base = tree.DecisionTreeClassifier(criterion='entropy')\n",
    "model = BaggingClassifier(base_estimator=base, n_estimators=100, random_state=1, n_jobs=5)\n",
    "model.fit(xtrain,ytrain)"
   ]
  },
  {
   "cell_type": "code",
   "execution_count": 41,
   "metadata": {},
   "outputs": [
    {
     "name": "stdout",
     "output_type": "stream",
     "text": [
      "Training Accuracy Rate: 0.999051021047637\n",
      "Training F1 score: 0.9953188482600248\n",
      "Testing Accuracy Rate: 0.914480280748663\n",
      "Testing F1 score: 0.4149757073449557\n"
     ]
    }
   ],
   "source": [
    "prd_test = model.predict(xtest)\n",
    "#prd_test_label = prd_test.astype(int)\n",
    "    \n",
    "prd_train = model.predict(xtrain)\n",
    "#prd_train_label = prd_train.astype(int)\n",
    "    \n",
    "train_accuracy = accuracy_score(ytrain, prd_train)\n",
    "train_f1 = f1_score(ytrain, prd_train)\n",
    "test_accuracy = accuracy_score(ytest,prd_test)\n",
    "test_f1 = f1_score(ytest,prd_test)\n",
    "    \n",
    "print('Training Accuracy Rate:', train_accuracy)\n",
    "print('Training F1 score:', train_f1)\n",
    "print('Testing Accuracy Rate:', test_accuracy)\n",
    "print('Testing F1 score:', test_f1)"
   ]
  },
  {
   "cell_type": "code",
   "execution_count": 62,
   "metadata": {},
   "outputs": [
    {
     "data": {
      "text/plain": [
       "BaggingClassifier(base_estimator=DecisionTreeClassifier(class_weight=None, criterion='gini', max_depth=None,\n",
       "            max_features=None, max_leaf_nodes=None,\n",
       "            min_impurity_decrease=0.0, min_impurity_split=None,\n",
       "            min_samples_leaf=1, min_samples_split=2,\n",
       "            min_weight_fraction_leaf=0.0, presort=False, random_state=None,\n",
       "            splitter='best'),\n",
       "         bootstrap=True, bootstrap_features=False, max_features=1.0,\n",
       "         max_samples=1.0, n_estimators=100, n_jobs=5, oob_score=False,\n",
       "         random_state=1, verbose=0, warm_start=False)"
      ]
     },
     "execution_count": 62,
     "metadata": {},
     "output_type": "execute_result"
    }
   ],
   "source": [
    "#bagging of decision tree -- gini\n",
    "base = tree.DecisionTreeClassifier(criterion='gini')\n",
    "model = BaggingClassifier(base_estimator=base, n_estimators=100, random_state=1, n_jobs=5)\n",
    "model.fit(xtrain,ytrain)"
   ]
  },
  {
   "cell_type": "code",
   "execution_count": 63,
   "metadata": {},
   "outputs": [
    {
     "name": "stdout",
     "output_type": "stream",
     "text": [
      "Training Accuracy Rate: 0.999059973679263\n",
      "Training F1 score: 0.995361985953443\n",
      "Testing Accuracy Rate: 0.9145429478609626\n",
      "Testing F1 score: 0.4173194701609457\n"
     ]
    }
   ],
   "source": [
    "prd_test = model.predict(xtest)\n",
    "#prd_test_label = prd_test.astype(int)\n",
    "    \n",
    "prd_train = model.predict(xtrain)\n",
    "#prd_train_label = prd_train.astype(int)\n",
    "    \n",
    "train_accuracy = accuracy_score(ytrain, prd_train)\n",
    "train_f1 = f1_score(ytrain, prd_train)\n",
    "test_accuracy = accuracy_score(ytest,prd_test)\n",
    "test_f1 = f1_score(ytest,prd_test)\n",
    "    \n",
    "print('Training Accuracy Rate:', train_accuracy)\n",
    "print('Training F1 score:', train_f1)\n",
    "print('Testing Accuracy Rate:', test_accuracy)\n",
    "print('Testing F1 score:', test_f1)"
   ]
  },
  {
   "cell_type": "code",
   "execution_count": 25,
   "metadata": {},
   "outputs": [
    {
     "data": {
      "text/plain": [
       "AdaBoostClassifier(algorithm='SAMME.R',\n",
       "          base_estimator=DecisionTreeClassifier(class_weight=None, criterion='gini', max_depth=None,\n",
       "            max_features=None, max_leaf_nodes=None,\n",
       "            min_impurity_decrease=0.0, min_impurity_split=None,\n",
       "            min_samples_leaf=1, min_samples_split=2,\n",
       "            min_weight_fraction_leaf=0.0, presort=False, random_state=None,\n",
       "            splitter='best'),\n",
       "          learning_rate=1.0, n_estimators=100, random_state=None)"
      ]
     },
     "execution_count": 25,
     "metadata": {},
     "output_type": "execute_result"
    }
   ],
   "source": [
    "#adaboost of decision tree\n",
    "base = tree.DecisionTreeClassifier(criterion='gini')\n",
    "model = AdaBoostClassifier(base_estimator=base, n_estimators=100)\n",
    "model.fit(xtrain,ytrain)"
   ]
  },
  {
   "cell_type": "code",
   "execution_count": 26,
   "metadata": {},
   "outputs": [
    {
     "name": "stdout",
     "output_type": "stream",
     "text": [
      "Training Accuracy Rate: 0.9991047368373933\n",
      "Training F1 score: 0.995600915009678\n",
      "Testing Accuracy Rate: 0.9095504679144385\n",
      "Testing F1 score: 0.37751581368602644\n"
     ]
    }
   ],
   "source": [
    "prd_test = model.predict(xtest)\n",
    "#prd_test_label = prd_test.astype(int)\n",
    "    \n",
    "prd_train = model.predict(xtrain)\n",
    "#prd_train_label = prd_train.astype(int)\n",
    "    \n",
    "train_accuracy = accuracy_score(ytrain, prd_train)\n",
    "train_f1 = f1_score(ytrain, prd_train)\n",
    "test_accuracy = accuracy_score(ytest,prd_test)\n",
    "test_f1 = f1_score(ytest,prd_test)\n",
    "    \n",
    "print('Training Accuracy Rate:', train_accuracy)\n",
    "print('Training F1 score:', train_f1)\n",
    "print('Testing Accuracy Rate:', test_accuracy)\n",
    "print('Testing F1 score:', test_f1)"
   ]
  },
  {
   "cell_type": "code",
   "execution_count": 83,
   "metadata": {
    "collapsed": true
   },
   "outputs": [],
   "source": [
    "#Neural Network"
   ]
  },
  {
   "cell_type": "code",
   "execution_count": 54,
   "metadata": {},
   "outputs": [],
   "source": [
    "#pre-process for nn, scale the data\n",
    "from sklearn.preprocessing import StandardScaler\n",
    "scaler = StandardScaler()\n",
    "scaler.fit(xtrain)\n",
    "X_train = scaler.transform(xtrain)\n",
    "X_test = scaler.transform(xtest)"
   ]
  },
  {
   "cell_type": "code",
   "execution_count": 102,
   "metadata": {
    "collapsed": true
   },
   "outputs": [],
   "source": [
    "modelNN = MLPClassifier(hidden_layer_sizes=(100,100,100,100,100,100,100,100), activation = \"relu\", solver='lbfgs', alpha=0.0001, \n",
    "                    #learning_rate = 'constant', learning_rate_init = 0.001, \n",
    "                    max_iter=500)"
   ]
  },
  {
   "cell_type": "code",
   "execution_count": 103,
   "metadata": {},
   "outputs": [
    {
     "data": {
      "text/plain": [
       "MLPClassifier(activation='relu', alpha=0.0001, batch_size='auto', beta_1=0.9,\n",
       "       beta_2=0.999, early_stopping=False, epsilon=1e-08,\n",
       "       hidden_layer_sizes=(100, 100, 100, 100, 100, 100, 100, 100),\n",
       "       learning_rate='constant', learning_rate_init=0.001, max_iter=500,\n",
       "       momentum=0.9, nesterovs_momentum=True, power_t=0.5,\n",
       "       random_state=None, shuffle=True, solver='lbfgs', tol=0.0001,\n",
       "       validation_fraction=0.1, verbose=False, warm_start=False)"
      ]
     },
     "execution_count": 103,
     "metadata": {},
     "output_type": "execute_result"
    }
   ],
   "source": [
    "modelNN.fit(X_train, ytrain)"
   ]
  },
  {
   "cell_type": "code",
   "execution_count": 104,
   "metadata": {},
   "outputs": [
    {
     "name": "stdout",
     "output_type": "stream",
     "text": [
      "Training Accuracy Rate: 0.9248784680256762\n",
      "Training F1 score: 0.5130288433637049\n",
      "Testing Accuracy Rate: 0.9106575868983957\n",
      "Testing F1 score: 0.41515110077943396\n"
     ]
    }
   ],
   "source": [
    "prd_test = modelNN.predict(X_test)\n",
    "#prd_test_label = prd_test.astype(int)\n",
    "    \n",
    "prd_train = modelNN.predict(X_train)\n",
    "#prd_train_label = prd_train.astype(int)\n",
    "    \n",
    "train_accuracy = accuracy_score(ytrain, prd_train)\n",
    "train_f1 = f1_score(ytrain, prd_train)\n",
    "test_accuracy = accuracy_score(ytest, prd_test)\n",
    "test_f1 = f1_score(ytest,prd_test)\n",
    "    \n",
    "print('Training Accuracy Rate:', train_accuracy)\n",
    "print('Training F1 score:', train_f1)\n",
    "print('Testing Accuracy Rate:', test_accuracy)\n",
    "print('Testing F1 score:', test_f1)"
   ]
  },
  {
   "cell_type": "code",
   "execution_count": 66,
   "metadata": {},
   "outputs": [],
   "source": [
    "train_f1 = f1_score(ytrain, prd_train)"
   ]
  },
  {
   "cell_type": "code",
   "execution_count": null,
   "metadata": {
    "collapsed": true
   },
   "outputs": [],
   "source": []
  }
 ],
 "metadata": {
  "kernelspec": {
   "display_name": "Python [py36]",
   "language": "python",
   "name": "Python [py36]"
  },
  "language_info": {
   "codemirror_mode": {
    "name": "ipython",
    "version": 3
   },
   "file_extension": ".py",
   "mimetype": "text/x-python",
   "name": "python",
   "nbconvert_exporter": "python",
   "pygments_lexer": "ipython3",
   "version": "3.6.5"
  }
 },
 "nbformat": 4,
 "nbformat_minor": 2
}
